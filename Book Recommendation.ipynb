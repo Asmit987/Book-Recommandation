{
 "cells": [
  {
   "cell_type": "code",
   "execution_count": 1,
   "metadata": {},
   "outputs": [
    {
     "name": "stderr",
     "output_type": "stream",
     "text": [
      "Warning message:\n",
      "\"package 'readr' was built under R version 3.6.3\"\n",
      "Warning message:\n",
      "\"package 'dplyr' was built under R version 3.6.3\"\n",
      "\n",
      "Attaching package: 'dplyr'\n",
      "\n",
      "\n",
      "The following objects are masked from 'package:stats':\n",
      "\n",
      "    filter, lag\n",
      "\n",
      "\n",
      "The following objects are masked from 'package:base':\n",
      "\n",
      "    intersect, setdiff, setequal, union\n",
      "\n",
      "\n",
      "Warning message:\n",
      "\"package 'ggplot2' was built under R version 3.6.3\"\n",
      "Warning message:\n",
      "\"package 'recommenderlab' was built under R version 3.6.3\"\n",
      "Loading required package: Matrix\n",
      "\n",
      "Loading required package: arules\n",
      "\n",
      "Warning message:\n",
      "\"package 'arules' was built under R version 3.6.3\"\n",
      "\n",
      "Attaching package: 'arules'\n",
      "\n",
      "\n",
      "The following object is masked from 'package:dplyr':\n",
      "\n",
      "    recode\n",
      "\n",
      "\n",
      "The following objects are masked from 'package:base':\n",
      "\n",
      "    abbreviate, write\n",
      "\n",
      "\n",
      "Loading required package: proxy\n",
      "\n",
      "Warning message:\n",
      "\"package 'proxy' was built under R version 3.6.3\"\n",
      "\n",
      "Attaching package: 'proxy'\n",
      "\n",
      "\n",
      "The following object is masked from 'package:Matrix':\n",
      "\n",
      "    as.matrix\n",
      "\n",
      "\n",
      "The following objects are masked from 'package:stats':\n",
      "\n",
      "    as.dist, dist\n",
      "\n",
      "\n",
      "The following object is masked from 'package:base':\n",
      "\n",
      "    as.matrix\n",
      "\n",
      "\n",
      "Loading required package: registry\n",
      "\n",
      "Registered S3 methods overwritten by 'registry':\n",
      "  method               from \n",
      "  print.registry_field proxy\n",
      "  print.registry_entry proxy\n",
      "\n",
      "Warning message:\n",
      "\"package 'data.table' was built under R version 3.6.3\"\n",
      "\n",
      "Attaching package: 'data.table'\n",
      "\n",
      "\n",
      "The following objects are masked from 'package:dplyr':\n",
      "\n",
      "    between, first, last\n",
      "\n",
      "\n",
      "Warning message:\n",
      "\"package 'tidyr' was built under R version 3.6.3\"\n",
      "\n",
      "Attaching package: 'tidyr'\n",
      "\n",
      "\n",
      "The following objects are masked from 'package:Matrix':\n",
      "\n",
      "    expand, pack, unpack\n",
      "\n",
      "\n",
      "Warning message:\n",
      "\"package 'stringr' was built under R version 3.6.3\"\n",
      "Warning message:\n",
      "\"package 'DT' was built under R version 3.6.3\"\n",
      "Warning message:\n",
      "\"package 'knitr' was built under R version 3.6.3\"\n",
      "Warning message:\n",
      "\"package 'gridExtra' was built under R version 3.6.3\"\n",
      "\n",
      "Attaching package: 'gridExtra'\n",
      "\n",
      "\n",
      "The following object is masked from 'package:dplyr':\n",
      "\n",
      "    combine\n",
      "\n",
      "\n"
     ]
    }
   ],
   "source": [
    "library(readr)\n",
    "library(dplyr)\n",
    "library(ggplot2)\n",
    "library(recommenderlab)\n",
    "library(data.table)\n",
    "library(tidyr)\n",
    "library(stringr)\n",
    "library(DT)\n",
    "library(knitr)\n",
    "library(grid) \n",
    "library(gridExtra)\n",
    "library(methods)\n",
    "library(Matrix)"
   ]
  },
  {
   "cell_type": "code",
   "execution_count": 2,
   "metadata": {},
   "outputs": [
    {
     "name": "stderr",
     "output_type": "stream",
     "text": [
      "Parsed with column specification:\n",
      "cols(\n",
      "  book_id = \u001b[32mcol_double()\u001b[39m,\n",
      "  user_id = \u001b[32mcol_double()\u001b[39m,\n",
      "  rating = \u001b[32mcol_double()\u001b[39m\n",
      ")\n",
      "\n"
     ]
    }
   ],
   "source": [
    "ratings = read_csv(\"C:/Users/Lenovo/Downloads/books recmm/ratings.csv\")"
   ]
  },
  {
   "cell_type": "code",
   "execution_count": 11,
   "metadata": {},
   "outputs": [
    {
     "data": {
      "text/html": [
       "<table>\n",
       "<caption>A tibble: 6 × 3</caption>\n",
       "<thead>\n",
       "\t<tr><th scope=col>book_id</th><th scope=col>user_id</th><th scope=col>rating</th></tr>\n",
       "\t<tr><th scope=col>&lt;dbl&gt;</th><th scope=col>&lt;dbl&gt;</th><th scope=col>&lt;dbl&gt;</th></tr>\n",
       "</thead>\n",
       "<tbody>\n",
       "\t<tr><td>1</td><td> 314</td><td>5</td></tr>\n",
       "\t<tr><td>1</td><td> 439</td><td>3</td></tr>\n",
       "\t<tr><td>1</td><td> 588</td><td>5</td></tr>\n",
       "\t<tr><td>1</td><td>1169</td><td>4</td></tr>\n",
       "\t<tr><td>1</td><td>1185</td><td>4</td></tr>\n",
       "\t<tr><td>1</td><td>2077</td><td>4</td></tr>\n",
       "</tbody>\n",
       "</table>\n"
      ],
      "text/latex": [
       "A tibble: 6 × 3\n",
       "\\begin{tabular}{lll}\n",
       " book\\_id & user\\_id & rating\\\\\n",
       " <dbl> & <dbl> & <dbl>\\\\\n",
       "\\hline\n",
       "\t 1 &  314 & 5\\\\\n",
       "\t 1 &  439 & 3\\\\\n",
       "\t 1 &  588 & 5\\\\\n",
       "\t 1 & 1169 & 4\\\\\n",
       "\t 1 & 1185 & 4\\\\\n",
       "\t 1 & 2077 & 4\\\\\n",
       "\\end{tabular}\n"
      ],
      "text/markdown": [
       "\n",
       "A tibble: 6 × 3\n",
       "\n",
       "| book_id &lt;dbl&gt; | user_id &lt;dbl&gt; | rating &lt;dbl&gt; |\n",
       "|---|---|---|\n",
       "| 1 |  314 | 5 |\n",
       "| 1 |  439 | 3 |\n",
       "| 1 |  588 | 5 |\n",
       "| 1 | 1169 | 4 |\n",
       "| 1 | 1185 | 4 |\n",
       "| 1 | 2077 | 4 |\n",
       "\n"
      ],
      "text/plain": [
       "  book_id user_id rating\n",
       "1 1        314    5     \n",
       "2 1        439    3     \n",
       "3 1        588    5     \n",
       "4 1       1169    4     \n",
       "5 1       1185    4     \n",
       "6 1       2077    4     "
      ]
     },
     "metadata": {},
     "output_type": "display_data"
    }
   ],
   "source": [
    "head(ratings)"
   ]
  },
  {
   "cell_type": "code",
   "execution_count": 4,
   "metadata": {},
   "outputs": [
    {
     "name": "stderr",
     "output_type": "stream",
     "text": [
      "Parsed with column specification:\n",
      "cols(\n",
      "  .default = col_double(),\n",
      "  isbn = \u001b[31mcol_character()\u001b[39m,\n",
      "  authors = \u001b[31mcol_character()\u001b[39m,\n",
      "  original_title = \u001b[31mcol_character()\u001b[39m,\n",
      "  title = \u001b[31mcol_character()\u001b[39m,\n",
      "  language_code = \u001b[31mcol_character()\u001b[39m,\n",
      "  image_url = \u001b[31mcol_character()\u001b[39m,\n",
      "  small_image_url = \u001b[31mcol_character()\u001b[39m\n",
      ")\n",
      "\n",
      "See spec(...) for full column specifications.\n",
      "\n"
     ]
    }
   ],
   "source": [
    "books = read_csv(\"C:/Users/Lenovo/Downloads/books recmm/books.csv\")"
   ]
  },
  {
   "cell_type": "code",
   "execution_count": 5,
   "metadata": {},
   "outputs": [
    {
     "data": {
      "text/html": [
       "<table>\n",
       "<caption>A tibble: 6 × 23</caption>\n",
       "<thead>\n",
       "\t<tr><th scope=col>id</th><th scope=col>book_id</th><th scope=col>best_book_id</th><th scope=col>work_id</th><th scope=col>books_count</th><th scope=col>isbn</th><th scope=col>isbn13</th><th scope=col>authors</th><th scope=col>original_publication_year</th><th scope=col>original_title</th><th scope=col>...</th><th scope=col>ratings_count</th><th scope=col>work_ratings_count</th><th scope=col>work_text_reviews_count</th><th scope=col>ratings_1</th><th scope=col>ratings_2</th><th scope=col>ratings_3</th><th scope=col>ratings_4</th><th scope=col>ratings_5</th><th scope=col>image_url</th><th scope=col>small_image_url</th></tr>\n",
       "\t<tr><th scope=col>&lt;dbl&gt;</th><th scope=col>&lt;dbl&gt;</th><th scope=col>&lt;dbl&gt;</th><th scope=col>&lt;dbl&gt;</th><th scope=col>&lt;dbl&gt;</th><th scope=col>&lt;chr&gt;</th><th scope=col>&lt;dbl&gt;</th><th scope=col>&lt;chr&gt;</th><th scope=col>&lt;dbl&gt;</th><th scope=col>&lt;chr&gt;</th><th scope=col>...</th><th scope=col>&lt;dbl&gt;</th><th scope=col>&lt;dbl&gt;</th><th scope=col>&lt;dbl&gt;</th><th scope=col>&lt;dbl&gt;</th><th scope=col>&lt;dbl&gt;</th><th scope=col>&lt;dbl&gt;</th><th scope=col>&lt;dbl&gt;</th><th scope=col>&lt;dbl&gt;</th><th scope=col>&lt;chr&gt;</th><th scope=col>&lt;chr&gt;</th></tr>\n",
       "</thead>\n",
       "<tbody>\n",
       "\t<tr><td>1</td><td> 2767052</td><td> 2767052</td><td> 2792775</td><td> 272</td><td>439023483</td><td>9.780439e+12</td><td>Suzanne Collins            </td><td>2008</td><td>The Hunger Games                        </td><td>...</td><td>4780653</td><td>4942365</td><td>155254</td><td> 66715</td><td>127936</td><td>560092</td><td>1481305</td><td>2706317</td><td>https://images.gr-assets.com/books/1447303603m/2767052.jpg </td><td>https://images.gr-assets.com/books/1447303603s/2767052.jpg </td></tr>\n",
       "\t<tr><td>2</td><td>       3</td><td>       3</td><td> 4640799</td><td> 491</td><td>439554934</td><td>9.780440e+12</td><td>J.K. Rowling, Mary GrandPré</td><td>1997</td><td>Harry Potter and the Philosopher's Stone</td><td>...</td><td>4602479</td><td>4800065</td><td> 75867</td><td> 75504</td><td>101676</td><td>455024</td><td>1156318</td><td>3011543</td><td>https://images.gr-assets.com/books/1474154022m/3.jpg       </td><td>https://images.gr-assets.com/books/1474154022s/3.jpg       </td></tr>\n",
       "\t<tr><td>3</td><td>   41865</td><td>   41865</td><td> 3212258</td><td> 226</td><td>316015849</td><td>9.780316e+12</td><td>Stephenie Meyer            </td><td>2005</td><td>Twilight                                </td><td>...</td><td>3866839</td><td>3916824</td><td> 95009</td><td>456191</td><td>436802</td><td>793319</td><td> 875073</td><td>1355439</td><td>https://images.gr-assets.com/books/1361039443m/41865.jpg   </td><td>https://images.gr-assets.com/books/1361039443s/41865.jpg   </td></tr>\n",
       "\t<tr><td>4</td><td>    2657</td><td>    2657</td><td> 3275794</td><td> 487</td><td>61120081 </td><td>9.780061e+12</td><td>Harper Lee                 </td><td>1960</td><td>To Kill a Mockingbird                   </td><td>...</td><td>3198671</td><td>3340896</td><td> 72586</td><td> 60427</td><td>117415</td><td>446835</td><td>1001952</td><td>1714267</td><td>https://images.gr-assets.com/books/1361975680m/2657.jpg    </td><td>https://images.gr-assets.com/books/1361975680s/2657.jpg    </td></tr>\n",
       "\t<tr><td>5</td><td>    4671</td><td>    4671</td><td>  245494</td><td>1356</td><td>743273567</td><td>9.780743e+12</td><td>F. Scott Fitzgerald        </td><td>1925</td><td>The Great Gatsby                        </td><td>...</td><td>2683664</td><td>2773745</td><td> 51992</td><td> 86236</td><td>197621</td><td>606158</td><td> 936012</td><td> 947718</td><td>https://images.gr-assets.com/books/1490528560m/4671.jpg    </td><td>https://images.gr-assets.com/books/1490528560s/4671.jpg    </td></tr>\n",
       "\t<tr><td>6</td><td>11870085</td><td>11870085</td><td>16827462</td><td> 226</td><td>525478817</td><td>9.780525e+12</td><td>John Green                 </td><td>2012</td><td>The Fault in Our Stars                  </td><td>...</td><td>2346404</td><td>2478609</td><td>140739</td><td> 47994</td><td> 92723</td><td>327550</td><td> 698471</td><td>1311871</td><td>https://images.gr-assets.com/books/1360206420m/11870085.jpg</td><td>https://images.gr-assets.com/books/1360206420s/11870085.jpg</td></tr>\n",
       "</tbody>\n",
       "</table>\n"
      ],
      "text/latex": [
       "A tibble: 6 × 23\n",
       "\\begin{tabular}{lllllllllllllllllllll}\n",
       " id & book\\_id & best\\_book\\_id & work\\_id & books\\_count & isbn & isbn13 & authors & original\\_publication\\_year & original\\_title & ... & ratings\\_count & work\\_ratings\\_count & work\\_text\\_reviews\\_count & ratings\\_1 & ratings\\_2 & ratings\\_3 & ratings\\_4 & ratings\\_5 & image\\_url & small\\_image\\_url\\\\\n",
       " <dbl> & <dbl> & <dbl> & <dbl> & <dbl> & <chr> & <dbl> & <chr> & <dbl> & <chr> & ... & <dbl> & <dbl> & <dbl> & <dbl> & <dbl> & <dbl> & <dbl> & <dbl> & <chr> & <chr>\\\\\n",
       "\\hline\n",
       "\t 1 &  2767052 &  2767052 &  2792775 &  272 & 439023483 & 9.780439e+12 & Suzanne Collins             & 2008 & The Hunger Games                         & ... & 4780653 & 4942365 & 155254 &  66715 & 127936 & 560092 & 1481305 & 2706317 & https://images.gr-assets.com/books/1447303603m/2767052.jpg  & https://images.gr-assets.com/books/1447303603s/2767052.jpg \\\\\n",
       "\t 2 &        3 &        3 &  4640799 &  491 & 439554934 & 9.780440e+12 & J.K. Rowling, Mary GrandPré & 1997 & Harry Potter and the Philosopher's Stone & ... & 4602479 & 4800065 &  75867 &  75504 & 101676 & 455024 & 1156318 & 3011543 & https://images.gr-assets.com/books/1474154022m/3.jpg        & https://images.gr-assets.com/books/1474154022s/3.jpg       \\\\\n",
       "\t 3 &    41865 &    41865 &  3212258 &  226 & 316015849 & 9.780316e+12 & Stephenie Meyer             & 2005 & Twilight                                 & ... & 3866839 & 3916824 &  95009 & 456191 & 436802 & 793319 &  875073 & 1355439 & https://images.gr-assets.com/books/1361039443m/41865.jpg    & https://images.gr-assets.com/books/1361039443s/41865.jpg   \\\\\n",
       "\t 4 &     2657 &     2657 &  3275794 &  487 & 61120081  & 9.780061e+12 & Harper Lee                  & 1960 & To Kill a Mockingbird                    & ... & 3198671 & 3340896 &  72586 &  60427 & 117415 & 446835 & 1001952 & 1714267 & https://images.gr-assets.com/books/1361975680m/2657.jpg     & https://images.gr-assets.com/books/1361975680s/2657.jpg    \\\\\n",
       "\t 5 &     4671 &     4671 &   245494 & 1356 & 743273567 & 9.780743e+12 & F. Scott Fitzgerald         & 1925 & The Great Gatsby                         & ... & 2683664 & 2773745 &  51992 &  86236 & 197621 & 606158 &  936012 &  947718 & https://images.gr-assets.com/books/1490528560m/4671.jpg     & https://images.gr-assets.com/books/1490528560s/4671.jpg    \\\\\n",
       "\t 6 & 11870085 & 11870085 & 16827462 &  226 & 525478817 & 9.780525e+12 & John Green                  & 2012 & The Fault in Our Stars                   & ... & 2346404 & 2478609 & 140739 &  47994 &  92723 & 327550 &  698471 & 1311871 & https://images.gr-assets.com/books/1360206420m/11870085.jpg & https://images.gr-assets.com/books/1360206420s/11870085.jpg\\\\\n",
       "\\end{tabular}\n"
      ],
      "text/markdown": [
       "\n",
       "A tibble: 6 × 23\n",
       "\n",
       "| id &lt;dbl&gt; | book_id &lt;dbl&gt; | best_book_id &lt;dbl&gt; | work_id &lt;dbl&gt; | books_count &lt;dbl&gt; | isbn &lt;chr&gt; | isbn13 &lt;dbl&gt; | authors &lt;chr&gt; | original_publication_year &lt;dbl&gt; | original_title &lt;chr&gt; | ... ... | ratings_count &lt;dbl&gt; | work_ratings_count &lt;dbl&gt; | work_text_reviews_count &lt;dbl&gt; | ratings_1 &lt;dbl&gt; | ratings_2 &lt;dbl&gt; | ratings_3 &lt;dbl&gt; | ratings_4 &lt;dbl&gt; | ratings_5 &lt;dbl&gt; | image_url &lt;chr&gt; | small_image_url &lt;chr&gt; |\n",
       "|---|---|---|---|---|---|---|---|---|---|---|---|---|---|---|---|---|---|---|---|---|\n",
       "| 1 |  2767052 |  2767052 |  2792775 |  272 | 439023483 | 9.780439e+12 | Suzanne Collins             | 2008 | The Hunger Games                         | ... | 4780653 | 4942365 | 155254 |  66715 | 127936 | 560092 | 1481305 | 2706317 | https://images.gr-assets.com/books/1447303603m/2767052.jpg  | https://images.gr-assets.com/books/1447303603s/2767052.jpg  |\n",
       "| 2 |        3 |        3 |  4640799 |  491 | 439554934 | 9.780440e+12 | J.K. Rowling, Mary GrandPré | 1997 | Harry Potter and the Philosopher's Stone | ... | 4602479 | 4800065 |  75867 |  75504 | 101676 | 455024 | 1156318 | 3011543 | https://images.gr-assets.com/books/1474154022m/3.jpg        | https://images.gr-assets.com/books/1474154022s/3.jpg        |\n",
       "| 3 |    41865 |    41865 |  3212258 |  226 | 316015849 | 9.780316e+12 | Stephenie Meyer             | 2005 | Twilight                                 | ... | 3866839 | 3916824 |  95009 | 456191 | 436802 | 793319 |  875073 | 1355439 | https://images.gr-assets.com/books/1361039443m/41865.jpg    | https://images.gr-assets.com/books/1361039443s/41865.jpg    |\n",
       "| 4 |     2657 |     2657 |  3275794 |  487 | 61120081  | 9.780061e+12 | Harper Lee                  | 1960 | To Kill a Mockingbird                    | ... | 3198671 | 3340896 |  72586 |  60427 | 117415 | 446835 | 1001952 | 1714267 | https://images.gr-assets.com/books/1361975680m/2657.jpg     | https://images.gr-assets.com/books/1361975680s/2657.jpg     |\n",
       "| 5 |     4671 |     4671 |   245494 | 1356 | 743273567 | 9.780743e+12 | F. Scott Fitzgerald         | 1925 | The Great Gatsby                         | ... | 2683664 | 2773745 |  51992 |  86236 | 197621 | 606158 |  936012 |  947718 | https://images.gr-assets.com/books/1490528560m/4671.jpg     | https://images.gr-assets.com/books/1490528560s/4671.jpg     |\n",
       "| 6 | 11870085 | 11870085 | 16827462 |  226 | 525478817 | 9.780525e+12 | John Green                  | 2012 | The Fault in Our Stars                   | ... | 2346404 | 2478609 | 140739 |  47994 |  92723 | 327550 |  698471 | 1311871 | https://images.gr-assets.com/books/1360206420m/11870085.jpg | https://images.gr-assets.com/books/1360206420s/11870085.jpg |\n",
       "\n"
      ],
      "text/plain": [
       "  id book_id  best_book_id work_id  books_count isbn      isbn13      \n",
       "1 1   2767052  2767052      2792775  272        439023483 9.780439e+12\n",
       "2 2         3        3      4640799  491        439554934 9.780440e+12\n",
       "3 3     41865    41865      3212258  226        316015849 9.780316e+12\n",
       "4 4      2657     2657      3275794  487        61120081  9.780061e+12\n",
       "5 5      4671     4671       245494 1356        743273567 9.780743e+12\n",
       "6 6  11870085 11870085     16827462  226        525478817 9.780525e+12\n",
       "  authors                     original_publication_year\n",
       "1 Suzanne Collins             2008                     \n",
       "2 J.K. Rowling, Mary GrandPré 1997                     \n",
       "3 Stephenie Meyer             2005                     \n",
       "4 Harper Lee                  1960                     \n",
       "5 F. Scott Fitzgerald         1925                     \n",
       "6 John Green                  2012                     \n",
       "  original_title                           ... ratings_count work_ratings_count\n",
       "1 The Hunger Games                         ... 4780653       4942365           \n",
       "2 Harry Potter and the Philosopher's Stone ... 4602479       4800065           \n",
       "3 Twilight                                 ... 3866839       3916824           \n",
       "4 To Kill a Mockingbird                    ... 3198671       3340896           \n",
       "5 The Great Gatsby                         ... 2683664       2773745           \n",
       "6 The Fault in Our Stars                   ... 2346404       2478609           \n",
       "  work_text_reviews_count ratings_1 ratings_2 ratings_3 ratings_4 ratings_5\n",
       "1 155254                   66715    127936    560092    1481305   2706317  \n",
       "2  75867                   75504    101676    455024    1156318   3011543  \n",
       "3  95009                  456191    436802    793319     875073   1355439  \n",
       "4  72586                   60427    117415    446835    1001952   1714267  \n",
       "5  51992                   86236    197621    606158     936012    947718  \n",
       "6 140739                   47994     92723    327550     698471   1311871  \n",
       "  image_url                                                  \n",
       "1 https://images.gr-assets.com/books/1447303603m/2767052.jpg \n",
       "2 https://images.gr-assets.com/books/1474154022m/3.jpg       \n",
       "3 https://images.gr-assets.com/books/1361039443m/41865.jpg   \n",
       "4 https://images.gr-assets.com/books/1361975680m/2657.jpg    \n",
       "5 https://images.gr-assets.com/books/1490528560m/4671.jpg    \n",
       "6 https://images.gr-assets.com/books/1360206420m/11870085.jpg\n",
       "  small_image_url                                            \n",
       "1 https://images.gr-assets.com/books/1447303603s/2767052.jpg \n",
       "2 https://images.gr-assets.com/books/1474154022s/3.jpg       \n",
       "3 https://images.gr-assets.com/books/1361039443s/41865.jpg   \n",
       "4 https://images.gr-assets.com/books/1361975680s/2657.jpg    \n",
       "5 https://images.gr-assets.com/books/1490528560s/4671.jpg    \n",
       "6 https://images.gr-assets.com/books/1360206420s/11870085.jpg"
      ]
     },
     "metadata": {},
     "output_type": "display_data"
    }
   ],
   "source": [
    "head(books)"
   ]
  },
  {
   "cell_type": "code",
   "execution_count": 6,
   "metadata": {},
   "outputs": [
    {
     "name": "stderr",
     "output_type": "stream",
     "text": [
      "Parsed with column specification:\n",
      "cols(\n",
      "  goodreads_book_id = \u001b[32mcol_double()\u001b[39m,\n",
      "  tag_id = \u001b[32mcol_double()\u001b[39m,\n",
      "  count = \u001b[32mcol_double()\u001b[39m\n",
      ")\n",
      "\n"
     ]
    }
   ],
   "source": [
    "book_tags = read_csv(\"C:/Users/Lenovo/Downloads/books recmm/book_tags.csv\")"
   ]
  },
  {
   "cell_type": "code",
   "execution_count": 56,
   "metadata": {},
   "outputs": [
    {
     "data": {
      "text/html": [
       "<table>\n",
       "<caption>A tibble: 6 × 3</caption>\n",
       "<thead>\n",
       "\t<tr><th scope=col>goodreads_book_id</th><th scope=col>tag_id</th><th scope=col>count</th></tr>\n",
       "\t<tr><th scope=col>&lt;dbl&gt;</th><th scope=col>&lt;dbl&gt;</th><th scope=col>&lt;dbl&gt;</th></tr>\n",
       "</thead>\n",
       "<tbody>\n",
       "\t<tr><td>1</td><td>30574</td><td>167697</td></tr>\n",
       "\t<tr><td>1</td><td>11305</td><td> 37174</td></tr>\n",
       "\t<tr><td>1</td><td>11557</td><td> 34173</td></tr>\n",
       "\t<tr><td>1</td><td> 8717</td><td> 12986</td></tr>\n",
       "\t<tr><td>1</td><td>33114</td><td> 12716</td></tr>\n",
       "\t<tr><td>1</td><td>11743</td><td>  9954</td></tr>\n",
       "</tbody>\n",
       "</table>\n"
      ],
      "text/latex": [
       "A tibble: 6 × 3\n",
       "\\begin{tabular}{lll}\n",
       " goodreads\\_book\\_id & tag\\_id & count\\\\\n",
       " <dbl> & <dbl> & <dbl>\\\\\n",
       "\\hline\n",
       "\t 1 & 30574 & 167697\\\\\n",
       "\t 1 & 11305 &  37174\\\\\n",
       "\t 1 & 11557 &  34173\\\\\n",
       "\t 1 &  8717 &  12986\\\\\n",
       "\t 1 & 33114 &  12716\\\\\n",
       "\t 1 & 11743 &   9954\\\\\n",
       "\\end{tabular}\n"
      ],
      "text/markdown": [
       "\n",
       "A tibble: 6 × 3\n",
       "\n",
       "| goodreads_book_id &lt;dbl&gt; | tag_id &lt;dbl&gt; | count &lt;dbl&gt; |\n",
       "|---|---|---|\n",
       "| 1 | 30574 | 167697 |\n",
       "| 1 | 11305 |  37174 |\n",
       "| 1 | 11557 |  34173 |\n",
       "| 1 |  8717 |  12986 |\n",
       "| 1 | 33114 |  12716 |\n",
       "| 1 | 11743 |   9954 |\n",
       "\n"
      ],
      "text/plain": [
       "  goodreads_book_id tag_id count \n",
       "1 1                 30574  167697\n",
       "2 1                 11305   37174\n",
       "3 1                 11557   34173\n",
       "4 1                  8717   12986\n",
       "5 1                 33114   12716\n",
       "6 1                 11743    9954"
      ]
     },
     "metadata": {},
     "output_type": "display_data"
    }
   ],
   "source": [
    "head(book_tags)"
   ]
  },
  {
   "cell_type": "code",
   "execution_count": 8,
   "metadata": {},
   "outputs": [
    {
     "name": "stderr",
     "output_type": "stream",
     "text": [
      "Parsed with column specification:\n",
      "cols(\n",
      "  tag_id = \u001b[32mcol_double()\u001b[39m,\n",
      "  tag_name = \u001b[31mcol_character()\u001b[39m\n",
      ")\n",
      "\n"
     ]
    }
   ],
   "source": [
    "tags = read_csv(\"C:/Users/Lenovo/Downloads/books recmm/tags.csv\")"
   ]
  },
  {
   "cell_type": "code",
   "execution_count": 54,
   "metadata": {},
   "outputs": [
    {
     "data": {
      "text/html": [
       "<table>\n",
       "<caption>A spec_tbl_df: 34252 × 2</caption>\n",
       "<thead>\n",
       "\t<tr><th scope=col>tag_id</th><th scope=col>tag_name</th></tr>\n",
       "\t<tr><th scope=col>&lt;dbl&gt;</th><th scope=col>&lt;chr&gt;</th></tr>\n",
       "</thead>\n",
       "<tbody>\n",
       "\t<tr><td> 0</td><td>-                          </td></tr>\n",
       "\t<tr><td> 1</td><td>--1-                       </td></tr>\n",
       "\t<tr><td> 2</td><td>--10-                      </td></tr>\n",
       "\t<tr><td> 3</td><td>--12-                      </td></tr>\n",
       "\t<tr><td> 4</td><td>--122-                     </td></tr>\n",
       "\t<tr><td> 5</td><td>--166-                     </td></tr>\n",
       "\t<tr><td> 6</td><td>--17-                      </td></tr>\n",
       "\t<tr><td> 7</td><td>--19-                      </td></tr>\n",
       "\t<tr><td> 8</td><td>--2-                       </td></tr>\n",
       "\t<tr><td> 9</td><td>--258-                     </td></tr>\n",
       "\t<tr><td>10</td><td>--3-                       </td></tr>\n",
       "\t<tr><td>11</td><td>--33-                      </td></tr>\n",
       "\t<tr><td>12</td><td>--4-                       </td></tr>\n",
       "\t<tr><td>13</td><td>--5-                       </td></tr>\n",
       "\t<tr><td>14</td><td>--51-                      </td></tr>\n",
       "\t<tr><td>15</td><td>--6-                       </td></tr>\n",
       "\t<tr><td>16</td><td>--62-                      </td></tr>\n",
       "\t<tr><td>17</td><td>--8-                       </td></tr>\n",
       "\t<tr><td>18</td><td>--99-                      </td></tr>\n",
       "\t<tr><td>19</td><td>--available-at-raspberrys--</td></tr>\n",
       "\t<tr><td>20</td><td>-2001--                    </td></tr>\n",
       "\t<tr><td>21</td><td>-calif--                   </td></tr>\n",
       "\t<tr><td>22</td><td>-d-c--                     </td></tr>\n",
       "\t<tr><td>23</td><td>-dean                      </td></tr>\n",
       "\t<tr><td>24</td><td>-england-                  </td></tr>\n",
       "\t<tr><td>25</td><td>-fiction                   </td></tr>\n",
       "\t<tr><td>26</td><td>-fictional                 </td></tr>\n",
       "\t<tr><td>27</td><td>-fictitious                </td></tr>\n",
       "\t<tr><td>28</td><td>-football-                 </td></tr>\n",
       "\t<tr><td>29</td><td>-george                    </td></tr>\n",
       "\t<tr><td>...</td><td>...</td></tr>\n",
       "\t<tr><td>34222</td><td><span style=white-space:pre-wrap>&lt;U+067E&gt;&lt;U+0627&gt;&lt;U+0631&gt;&lt;U+0633&gt;&lt;U+06CC&gt;                                                                                                           </span></td></tr>\n",
       "\t<tr><td>34223</td><td><span style=white-space:pre-wrap>&lt;U+06A4&gt;&lt;U+064A&gt;&lt;U+0631&gt;&lt;U+062A&gt;&lt;U+064A&gt;&lt;U+062C&gt;&lt;U+0648&gt;                                                                                           </span></td></tr>\n",
       "\t<tr><td>34224</td><td><span style=white-space:pre-wrap>&lt;U+06A9&gt;&lt;U+062A&gt;&lt;U+0627&gt;&lt;U+0628&gt;                                                                                                                   </span></td></tr>\n",
       "\t<tr><td>34225</td><td><span style=white-space:pre-wrap>&lt;U+06A9&gt;&lt;U+062A&gt;&lt;U+0627&gt;&lt;U+0628&gt;-&lt;U+0647&gt;&lt;U+0627&gt;&lt;U+06CC&gt;-&lt;U+0641&gt;&lt;U+0627&gt;&lt;U+0631&gt;&lt;U+0633&gt;&lt;U+06CC&gt;                                                 </span></td></tr>\n",
       "\t<tr><td>34226</td><td><span style=white-space:pre-wrap>&lt;U+06A9&gt;&lt;U+062A&gt;&lt;U+0627&gt;&lt;U+0628&gt;-&lt;U+06A9&gt;&lt;U+0648&gt;&lt;U+062F&gt;&lt;U+06A9&gt;                                                                                  </span></td></tr>\n",
       "\t<tr><td>34227</td><td>&lt;U+06A9&gt;&lt;U+062A&gt;&lt;U+0627&gt;&lt;U+0628&gt;&lt;U+0647&gt;&lt;U+0627&gt;&lt;U+06CC&gt;-&lt;U+0645&gt;&lt;U+0648&gt;&lt;U+0631&gt;&lt;U+062F&gt;-&lt;U+0639&gt;&lt;U+0644&gt;&lt;U+0627&gt;&lt;U+0642&gt;&lt;U+0647&gt;-&lt;U+0627&gt;&lt;U+0645&gt;</td></tr>\n",
       "\t<tr><td>34228</td><td><span style=white-space:pre-wrap>&lt;U+06A9&gt;&lt;U+0648&gt;&lt;U+062F&gt;&lt;U+06A9&gt;                                                                                                                   </span></td></tr>\n",
       "\t<tr><td>34229</td><td><span style=white-space:pre-wrap>&lt;U+06A9&gt;&lt;U+0648&gt;&lt;U+062F&gt;&lt;U+06A9&gt;-&lt;U+0648&gt;-&lt;U+0646&gt;&lt;U+0648&gt;&lt;U+062C&gt;&lt;U+0648&gt;&lt;U+0627&gt;&lt;U+0646&gt;                                                         </span></td></tr>\n",
       "\t<tr><td>34230</td><td><span style=white-space:pre-wrap>&lt;U+06A9&gt;&lt;U+0648&gt;&lt;U+062F&gt;&lt;U+06A9&gt;&lt;U+0627&gt;&lt;U+0646&gt;                                                                                                   </span></td></tr>\n",
       "\t<tr><td>34231</td><td><span style=white-space:pre-wrap>&lt;U+06A9&gt;&lt;U+0648&gt;&lt;U+062F&gt;&lt;U+06A9&gt;&lt;U+0627&gt;&lt;U+0646&gt;-&lt;U+0648&gt;-&lt;U+0646&gt;&lt;U+0648&gt;&lt;U+062C&gt;&lt;U+0648&gt;&lt;U+0627&gt;&lt;U+0646&gt;&lt;U+0627&gt;&lt;U+0646&gt;                         </span></td></tr>\n",
       "\t<tr><td>34232</td><td><span style=white-space:pre-wrap>&lt;U+06A9&gt;&lt;U+0648&gt;&lt;U+062F&gt;&lt;U+06A9&gt;&lt;U+0627&gt;&lt;U+0646&gt;&lt;U+0647&gt;                                                                                           </span></td></tr>\n",
       "\t<tr><td>34233</td><td><span style=white-space:pre-wrap>&lt;U+06F1&gt;                                                                                                                                           </span></td></tr>\n",
       "\t<tr><td>34234</td><td><span style=white-space:pre-wrap>&lt;U+0E27&gt;&lt;U+0E23&gt;&lt;U+0E23&gt;&lt;U+0E13&gt;&lt;U+0E27&gt;-&lt;U+0E20&gt;&lt;U+0E32&gt;                                                                                          </span></td></tr>\n",
       "\t<tr><td>34235</td><td>Favorites                                                                                                                                          </td></tr>\n",
       "\t<tr><td>34236</td><td><span style=white-space:pre-wrap>&lt;U+4E2D&gt;&lt;U+6587&gt;                                                                                                                                   </span></td></tr>\n",
       "\t<tr><td>34237</td><td><span style=white-space:pre-wrap>&lt;U+53F6&gt;&lt;U+7EA2&gt;                                                                                                                                   </span></td></tr>\n",
       "\t<tr><td>34238</td><td><span style=white-space:pre-wrap>&lt;U+5C0F&gt;&lt;U+8AAA&gt;-&lt;U+5947&gt;&lt;U+5E7B&gt;&lt;U+5C0F&gt;&lt;U+8AAA&gt;                                                                                                  </span></td></tr>\n",
       "\t<tr><td>34239</td><td><span style=white-space:pre-wrap>&lt;U+65E5&gt;&lt;U+672C&gt;                                                                                                                                   </span></td></tr>\n",
       "\t<tr><td>34240</td><td><span style=white-space:pre-wrap>&lt;U+65E5&gt;&lt;U+672C&gt;&lt;U+6587&gt;&lt;U+5B66&gt;                                                                                                                   </span></td></tr>\n",
       "\t<tr><td>34241</td><td><span style=white-space:pre-wrap>&lt;U+65E5&gt;&lt;U+672C&gt;&lt;U+8A9E&gt;                                                                                                                           </span></td></tr>\n",
       "\t<tr><td>34242</td><td><span style=white-space:pre-wrap>&lt;U+6F2B&gt;&lt;U+753B&gt;                                                                                                                                   </span></td></tr>\n",
       "\t<tr><td>34243</td><td><span style=white-space:pre-wrap>&lt;U+ACE8&gt;&lt;U+B4E0&gt;                                                                                                                                   </span></td></tr>\n",
       "\t<tr><td>34244</td><td><span style=white-space:pre-wrap>&lt;U+FE4F&gt;moonplus-reader&lt;U+FE4F&gt;                                                                                                                    </span></td></tr>\n",
       "\t<tr><td>34245</td><td><span style=white-space:pre-wrap>&lt;U+FEAD&gt;&lt;U+FEBF&gt;&lt;U+FEEE&gt;&lt;U+FEEF&gt;-&lt;U+0639&gt;&lt;U+0627&gt;&lt;U+0634&gt;&lt;U+0648&gt;&lt;U+0631&gt;                                                                          </span></td></tr>\n",
       "\t<tr><td>34246</td><td><span style=white-space:pre-wrap>&lt;U+FEF3&gt;&lt;U+FEEE&gt;&lt;U+FEB3&gt;&lt;U+FED2&gt;-&lt;U+0632&gt;&lt;U+064A&gt;&lt;U+062F&gt;&lt;U+0627&gt;&lt;U+0646&gt;                                                                          </span></td></tr>\n",
       "\t<tr><td>34247</td><td>Childrens                                                                                                                                          </td></tr>\n",
       "\t<tr><td>34248</td><td>Favorites                                                                                                                                          </td></tr>\n",
       "\t<tr><td>34249</td><td>Manga                                                                                                                                              </td></tr>\n",
       "\t<tr><td>34250</td><td>SERIES                                                                                                                                             </td></tr>\n",
       "\t<tr><td>34251</td><td>favourites                                                                                                                                         </td></tr>\n",
       "</tbody>\n",
       "</table>\n"
      ],
      "text/latex": [
       "A spec\\_tbl\\_df: 34252 × 2\n",
       "\\begin{tabular}{ll}\n",
       " tag\\_id & tag\\_name\\\\\n",
       " <dbl> & <chr>\\\\\n",
       "\\hline\n",
       "\t  0 & -                          \\\\\n",
       "\t  1 & --1-                       \\\\\n",
       "\t  2 & --10-                      \\\\\n",
       "\t  3 & --12-                      \\\\\n",
       "\t  4 & --122-                     \\\\\n",
       "\t  5 & --166-                     \\\\\n",
       "\t  6 & --17-                      \\\\\n",
       "\t  7 & --19-                      \\\\\n",
       "\t  8 & --2-                       \\\\\n",
       "\t  9 & --258-                     \\\\\n",
       "\t 10 & --3-                       \\\\\n",
       "\t 11 & --33-                      \\\\\n",
       "\t 12 & --4-                       \\\\\n",
       "\t 13 & --5-                       \\\\\n",
       "\t 14 & --51-                      \\\\\n",
       "\t 15 & --6-                       \\\\\n",
       "\t 16 & --62-                      \\\\\n",
       "\t 17 & --8-                       \\\\\n",
       "\t 18 & --99-                      \\\\\n",
       "\t 19 & --available-at-raspberrys--\\\\\n",
       "\t 20 & -2001--                    \\\\\n",
       "\t 21 & -calif--                   \\\\\n",
       "\t 22 & -d-c--                     \\\\\n",
       "\t 23 & -dean                      \\\\\n",
       "\t 24 & -england-                  \\\\\n",
       "\t 25 & -fiction                   \\\\\n",
       "\t 26 & -fictional                 \\\\\n",
       "\t 27 & -fictitious                \\\\\n",
       "\t 28 & -football-                 \\\\\n",
       "\t 29 & -george                    \\\\\n",
       "\t ... & ...\\\\\n",
       "\t 34222 & <U+067E><U+0627><U+0631><U+0633><U+06CC>                                                                                                           \\\\\n",
       "\t 34223 & <U+06A4><U+064A><U+0631><U+062A><U+064A><U+062C><U+0648>                                                                                           \\\\\n",
       "\t 34224 & <U+06A9><U+062A><U+0627><U+0628>                                                                                                                   \\\\\n",
       "\t 34225 & <U+06A9><U+062A><U+0627><U+0628>-<U+0647><U+0627><U+06CC>-<U+0641><U+0627><U+0631><U+0633><U+06CC>                                                 \\\\\n",
       "\t 34226 & <U+06A9><U+062A><U+0627><U+0628>-<U+06A9><U+0648><U+062F><U+06A9>                                                                                  \\\\\n",
       "\t 34227 & <U+06A9><U+062A><U+0627><U+0628><U+0647><U+0627><U+06CC>-<U+0645><U+0648><U+0631><U+062F>-<U+0639><U+0644><U+0627><U+0642><U+0647>-<U+0627><U+0645>\\\\\n",
       "\t 34228 & <U+06A9><U+0648><U+062F><U+06A9>                                                                                                                   \\\\\n",
       "\t 34229 & <U+06A9><U+0648><U+062F><U+06A9>-<U+0648>-<U+0646><U+0648><U+062C><U+0648><U+0627><U+0646>                                                         \\\\\n",
       "\t 34230 & <U+06A9><U+0648><U+062F><U+06A9><U+0627><U+0646>                                                                                                   \\\\\n",
       "\t 34231 & <U+06A9><U+0648><U+062F><U+06A9><U+0627><U+0646>-<U+0648>-<U+0646><U+0648><U+062C><U+0648><U+0627><U+0646><U+0627><U+0646>                         \\\\\n",
       "\t 34232 & <U+06A9><U+0648><U+062F><U+06A9><U+0627><U+0646><U+0647>                                                                                           \\\\\n",
       "\t 34233 & <U+06F1>                                                                                                                                           \\\\\n",
       "\t 34234 & <U+0E27><U+0E23><U+0E23><U+0E13><U+0E27>-<U+0E20><U+0E32>                                                                                          \\\\\n",
       "\t 34235 & Favorites                                                                                                                                          \\\\\n",
       "\t 34236 & <U+4E2D><U+6587>                                                                                                                                   \\\\\n",
       "\t 34237 & <U+53F6><U+7EA2>                                                                                                                                   \\\\\n",
       "\t 34238 & <U+5C0F><U+8AAA>-<U+5947><U+5E7B><U+5C0F><U+8AAA>                                                                                                  \\\\\n",
       "\t 34239 & <U+65E5><U+672C>                                                                                                                                   \\\\\n",
       "\t 34240 & <U+65E5><U+672C><U+6587><U+5B66>                                                                                                                   \\\\\n",
       "\t 34241 & <U+65E5><U+672C><U+8A9E>                                                                                                                           \\\\\n",
       "\t 34242 & <U+6F2B><U+753B>                                                                                                                                   \\\\\n",
       "\t 34243 & <U+ACE8><U+B4E0>                                                                                                                                   \\\\\n",
       "\t 34244 & <U+FE4F>moonplus-reader<U+FE4F>                                                                                                                    \\\\\n",
       "\t 34245 & <U+FEAD><U+FEBF><U+FEEE><U+FEEF>-<U+0639><U+0627><U+0634><U+0648><U+0631>                                                                          \\\\\n",
       "\t 34246 & <U+FEF3><U+FEEE><U+FEB3><U+FED2>-<U+0632><U+064A><U+062F><U+0627><U+0646>                                                                          \\\\\n",
       "\t 34247 & Childrens                                                                                                                                          \\\\\n",
       "\t 34248 & Favorites                                                                                                                                          \\\\\n",
       "\t 34249 & Manga                                                                                                                                              \\\\\n",
       "\t 34250 & SERIES                                                                                                                                             \\\\\n",
       "\t 34251 & favourites                                                                                                                                         \\\\\n",
       "\\end{tabular}\n"
      ],
      "text/markdown": [
       "\n",
       "A spec_tbl_df: 34252 × 2\n",
       "\n",
       "| tag_id &lt;dbl&gt; | tag_name &lt;chr&gt; |\n",
       "|---|---|\n",
       "|  0 | -                           |\n",
       "|  1 | --1-                        |\n",
       "|  2 | --10-                       |\n",
       "|  3 | --12-                       |\n",
       "|  4 | --122-                      |\n",
       "|  5 | --166-                      |\n",
       "|  6 | --17-                       |\n",
       "|  7 | --19-                       |\n",
       "|  8 | --2-                        |\n",
       "|  9 | --258-                      |\n",
       "| 10 | --3-                        |\n",
       "| 11 | --33-                       |\n",
       "| 12 | --4-                        |\n",
       "| 13 | --5-                        |\n",
       "| 14 | --51-                       |\n",
       "| 15 | --6-                        |\n",
       "| 16 | --62-                       |\n",
       "| 17 | --8-                        |\n",
       "| 18 | --99-                       |\n",
       "| 19 | --available-at-raspberrys-- |\n",
       "| 20 | -2001--                     |\n",
       "| 21 | -calif--                    |\n",
       "| 22 | -d-c--                      |\n",
       "| 23 | -dean                       |\n",
       "| 24 | -england-                   |\n",
       "| 25 | -fiction                    |\n",
       "| 26 | -fictional                  |\n",
       "| 27 | -fictitious                 |\n",
       "| 28 | -football-                  |\n",
       "| 29 | -george                     |\n",
       "| ... | ... |\n",
       "| 34222 | &lt;U+067E&gt;&lt;U+0627&gt;&lt;U+0631&gt;&lt;U+0633&gt;&lt;U+06CC&gt;                                                                                                            |\n",
       "| 34223 | &lt;U+06A4&gt;&lt;U+064A&gt;&lt;U+0631&gt;&lt;U+062A&gt;&lt;U+064A&gt;&lt;U+062C&gt;&lt;U+0648&gt;                                                                                            |\n",
       "| 34224 | &lt;U+06A9&gt;&lt;U+062A&gt;&lt;U+0627&gt;&lt;U+0628&gt;                                                                                                                    |\n",
       "| 34225 | &lt;U+06A9&gt;&lt;U+062A&gt;&lt;U+0627&gt;&lt;U+0628&gt;-&lt;U+0647&gt;&lt;U+0627&gt;&lt;U+06CC&gt;-&lt;U+0641&gt;&lt;U+0627&gt;&lt;U+0631&gt;&lt;U+0633&gt;&lt;U+06CC&gt;                                                  |\n",
       "| 34226 | &lt;U+06A9&gt;&lt;U+062A&gt;&lt;U+0627&gt;&lt;U+0628&gt;-&lt;U+06A9&gt;&lt;U+0648&gt;&lt;U+062F&gt;&lt;U+06A9&gt;                                                                                   |\n",
       "| 34227 | &lt;U+06A9&gt;&lt;U+062A&gt;&lt;U+0627&gt;&lt;U+0628&gt;&lt;U+0647&gt;&lt;U+0627&gt;&lt;U+06CC&gt;-&lt;U+0645&gt;&lt;U+0648&gt;&lt;U+0631&gt;&lt;U+062F&gt;-&lt;U+0639&gt;&lt;U+0644&gt;&lt;U+0627&gt;&lt;U+0642&gt;&lt;U+0647&gt;-&lt;U+0627&gt;&lt;U+0645&gt; |\n",
       "| 34228 | &lt;U+06A9&gt;&lt;U+0648&gt;&lt;U+062F&gt;&lt;U+06A9&gt;                                                                                                                    |\n",
       "| 34229 | &lt;U+06A9&gt;&lt;U+0648&gt;&lt;U+062F&gt;&lt;U+06A9&gt;-&lt;U+0648&gt;-&lt;U+0646&gt;&lt;U+0648&gt;&lt;U+062C&gt;&lt;U+0648&gt;&lt;U+0627&gt;&lt;U+0646&gt;                                                          |\n",
       "| 34230 | &lt;U+06A9&gt;&lt;U+0648&gt;&lt;U+062F&gt;&lt;U+06A9&gt;&lt;U+0627&gt;&lt;U+0646&gt;                                                                                                    |\n",
       "| 34231 | &lt;U+06A9&gt;&lt;U+0648&gt;&lt;U+062F&gt;&lt;U+06A9&gt;&lt;U+0627&gt;&lt;U+0646&gt;-&lt;U+0648&gt;-&lt;U+0646&gt;&lt;U+0648&gt;&lt;U+062C&gt;&lt;U+0648&gt;&lt;U+0627&gt;&lt;U+0646&gt;&lt;U+0627&gt;&lt;U+0646&gt;                          |\n",
       "| 34232 | &lt;U+06A9&gt;&lt;U+0648&gt;&lt;U+062F&gt;&lt;U+06A9&gt;&lt;U+0627&gt;&lt;U+0646&gt;&lt;U+0647&gt;                                                                                            |\n",
       "| 34233 | &lt;U+06F1&gt;                                                                                                                                            |\n",
       "| 34234 | &lt;U+0E27&gt;&lt;U+0E23&gt;&lt;U+0E23&gt;&lt;U+0E13&gt;&lt;U+0E27&gt;-&lt;U+0E20&gt;&lt;U+0E32&gt;                                                                                           |\n",
       "| 34235 | Favorites                                                                                                                                           |\n",
       "| 34236 | &lt;U+4E2D&gt;&lt;U+6587&gt;                                                                                                                                    |\n",
       "| 34237 | &lt;U+53F6&gt;&lt;U+7EA2&gt;                                                                                                                                    |\n",
       "| 34238 | &lt;U+5C0F&gt;&lt;U+8AAA&gt;-&lt;U+5947&gt;&lt;U+5E7B&gt;&lt;U+5C0F&gt;&lt;U+8AAA&gt;                                                                                                   |\n",
       "| 34239 | &lt;U+65E5&gt;&lt;U+672C&gt;                                                                                                                                    |\n",
       "| 34240 | &lt;U+65E5&gt;&lt;U+672C&gt;&lt;U+6587&gt;&lt;U+5B66&gt;                                                                                                                    |\n",
       "| 34241 | &lt;U+65E5&gt;&lt;U+672C&gt;&lt;U+8A9E&gt;                                                                                                                            |\n",
       "| 34242 | &lt;U+6F2B&gt;&lt;U+753B&gt;                                                                                                                                    |\n",
       "| 34243 | &lt;U+ACE8&gt;&lt;U+B4E0&gt;                                                                                                                                    |\n",
       "| 34244 | &lt;U+FE4F&gt;moonplus-reader&lt;U+FE4F&gt;                                                                                                                     |\n",
       "| 34245 | &lt;U+FEAD&gt;&lt;U+FEBF&gt;&lt;U+FEEE&gt;&lt;U+FEEF&gt;-&lt;U+0639&gt;&lt;U+0627&gt;&lt;U+0634&gt;&lt;U+0648&gt;&lt;U+0631&gt;                                                                           |\n",
       "| 34246 | &lt;U+FEF3&gt;&lt;U+FEEE&gt;&lt;U+FEB3&gt;&lt;U+FED2&gt;-&lt;U+0632&gt;&lt;U+064A&gt;&lt;U+062F&gt;&lt;U+0627&gt;&lt;U+0646&gt;                                                                           |\n",
       "| 34247 | Childrens                                                                                                                                           |\n",
       "| 34248 | Favorites                                                                                                                                           |\n",
       "| 34249 | Manga                                                                                                                                               |\n",
       "| 34250 | SERIES                                                                                                                                              |\n",
       "| 34251 | favourites                                                                                                                                          |\n",
       "\n"
      ],
      "text/plain": [
       "      tag_id\n",
       "1      0    \n",
       "2      1    \n",
       "3      2    \n",
       "4      3    \n",
       "5      4    \n",
       "6      5    \n",
       "7      6    \n",
       "8      7    \n",
       "9      8    \n",
       "10     9    \n",
       "11    10    \n",
       "12    11    \n",
       "13    12    \n",
       "14    13    \n",
       "15    14    \n",
       "16    15    \n",
       "17    16    \n",
       "18    17    \n",
       "19    18    \n",
       "20    19    \n",
       "21    20    \n",
       "22    21    \n",
       "23    22    \n",
       "24    23    \n",
       "25    24    \n",
       "26    25    \n",
       "27    26    \n",
       "28    27    \n",
       "29    28    \n",
       "30    29    \n",
       "...   ...   \n",
       "34223 34222 \n",
       "34224 34223 \n",
       "34225 34224 \n",
       "34226 34225 \n",
       "34227 34226 \n",
       "34228 34227 \n",
       "34229 34228 \n",
       "34230 34229 \n",
       "34231 34230 \n",
       "34232 34231 \n",
       "34233 34232 \n",
       "34234 34233 \n",
       "34235 34234 \n",
       "34236 34235 \n",
       "34237 34236 \n",
       "34238 34237 \n",
       "34239 34238 \n",
       "34240 34239 \n",
       "34241 34240 \n",
       "34242 34241 \n",
       "34243 34242 \n",
       "34244 34243 \n",
       "34245 34244 \n",
       "34246 34245 \n",
       "34247 34246 \n",
       "34248 34247 \n",
       "34249 34248 \n",
       "34250 34249 \n",
       "34251 34250 \n",
       "34252 34251 \n",
       "      tag_name                                                                                                                                           \n",
       "1     -                                                                                                                                                  \n",
       "2     --1-                                                                                                                                               \n",
       "3     --10-                                                                                                                                              \n",
       "4     --12-                                                                                                                                              \n",
       "5     --122-                                                                                                                                             \n",
       "6     --166-                                                                                                                                             \n",
       "7     --17-                                                                                                                                              \n",
       "8     --19-                                                                                                                                              \n",
       "9     --2-                                                                                                                                               \n",
       "10    --258-                                                                                                                                             \n",
       "11    --3-                                                                                                                                               \n",
       "12    --33-                                                                                                                                              \n",
       "13    --4-                                                                                                                                               \n",
       "14    --5-                                                                                                                                               \n",
       "15    --51-                                                                                                                                              \n",
       "16    --6-                                                                                                                                               \n",
       "17    --62-                                                                                                                                              \n",
       "18    --8-                                                                                                                                               \n",
       "19    --99-                                                                                                                                              \n",
       "20    --available-at-raspberrys--                                                                                                                        \n",
       "21    -2001--                                                                                                                                            \n",
       "22    -calif--                                                                                                                                           \n",
       "23    -d-c--                                                                                                                                             \n",
       "24    -dean                                                                                                                                              \n",
       "25    -england-                                                                                                                                          \n",
       "26    -fiction                                                                                                                                           \n",
       "27    -fictional                                                                                                                                         \n",
       "28    -fictitious                                                                                                                                        \n",
       "29    -football-                                                                                                                                         \n",
       "30    -george                                                                                                                                            \n",
       "...   ...                                                                                                                                                \n",
       "34223 <U+067E><U+0627><U+0631><U+0633><U+06CC>                                                                                                           \n",
       "34224 <U+06A4><U+064A><U+0631><U+062A><U+064A><U+062C><U+0648>                                                                                           \n",
       "34225 <U+06A9><U+062A><U+0627><U+0628>                                                                                                                   \n",
       "34226 <U+06A9><U+062A><U+0627><U+0628>-<U+0647><U+0627><U+06CC>-<U+0641><U+0627><U+0631><U+0633><U+06CC>                                                 \n",
       "34227 <U+06A9><U+062A><U+0627><U+0628>-<U+06A9><U+0648><U+062F><U+06A9>                                                                                  \n",
       "34228 <U+06A9><U+062A><U+0627><U+0628><U+0647><U+0627><U+06CC>-<U+0645><U+0648><U+0631><U+062F>-<U+0639><U+0644><U+0627><U+0642><U+0647>-<U+0627><U+0645>\n",
       "34229 <U+06A9><U+0648><U+062F><U+06A9>                                                                                                                   \n",
       "34230 <U+06A9><U+0648><U+062F><U+06A9>-<U+0648>-<U+0646><U+0648><U+062C><U+0648><U+0627><U+0646>                                                         \n",
       "34231 <U+06A9><U+0648><U+062F><U+06A9><U+0627><U+0646>                                                                                                   \n",
       "34232 <U+06A9><U+0648><U+062F><U+06A9><U+0627><U+0646>-<U+0648>-<U+0646><U+0648><U+062C><U+0648><U+0627><U+0646><U+0627><U+0646>                         \n",
       "34233 <U+06A9><U+0648><U+062F><U+06A9><U+0627><U+0646><U+0647>                                                                                           \n",
       "34234 <U+06F1>                                                                                                                                           \n",
       "34235 <U+0E27><U+0E23><U+0E23><U+0E13><U+0E27>-<U+0E20><U+0E32>                                                                                          \n",
       "34236 Favorites                                                                                                                                          \n",
       "34237 <U+4E2D><U+6587>                                                                                                                                   \n",
       "34238 <U+53F6><U+7EA2>                                                                                                                                   \n",
       "34239 <U+5C0F><U+8AAA>-<U+5947><U+5E7B><U+5C0F><U+8AAA>                                                                                                  \n",
       "34240 <U+65E5><U+672C>                                                                                                                                   \n",
       "34241 <U+65E5><U+672C><U+6587><U+5B66>                                                                                                                   \n",
       "34242 <U+65E5><U+672C><U+8A9E>                                                                                                                           \n",
       "34243 <U+6F2B><U+753B>                                                                                                                                   \n",
       "34244 <U+ACE8><U+B4E0>                                                                                                                                   \n",
       "34245 <U+FE4F>moonplus-reader<U+FE4F>                                                                                                                    \n",
       "34246 <U+FEAD><U+FEBF><U+FEEE><U+FEEF>-<U+0639><U+0627><U+0634><U+0648><U+0631>                                                                          \n",
       "34247 <U+FEF3><U+FEEE><U+FEB3><U+FED2>-<U+0632><U+064A><U+062F><U+0627><U+0646>                                                                          \n",
       "34248 Childrens                                                                                                                                          \n",
       "34249 Favorites                                                                                                                                          \n",
       "34250 Manga                                                                                                                                              \n",
       "34251 SERIES                                                                                                                                             \n",
       "34252 favourites                                                                                                                                         "
      ]
     },
     "metadata": {},
     "output_type": "display_data"
    }
   ],
   "source": [
    "tags"
   ]
  },
  {
   "cell_type": "markdown",
   "metadata": {},
   "source": [
    "## Data cleaning\n"
   ]
  },
  {
   "cell_type": "markdown",
   "metadata": {},
   "source": [
    "#### finding duplicates ratings"
   ]
  },
  {
   "cell_type": "code",
   "execution_count": 12,
   "metadata": {},
   "outputs": [],
   "source": [
    "# Mutate use for new columns\n",
    "\n",
    "ratings %>% group_by(user_id, book_id) %>% mutate(N=n()) -> ratings"
   ]
  },
  {
   "cell_type": "code",
   "execution_count": 14,
   "metadata": {},
   "outputs": [
    {
     "data": {
      "text/html": [
       "<table>\n",
       "<caption>A grouped_df: 6 × 4</caption>\n",
       "<thead>\n",
       "\t<tr><th scope=col>book_id</th><th scope=col>user_id</th><th scope=col>rating</th><th scope=col>N</th></tr>\n",
       "\t<tr><th scope=col>&lt;dbl&gt;</th><th scope=col>&lt;dbl&gt;</th><th scope=col>&lt;dbl&gt;</th><th scope=col>&lt;int&gt;</th></tr>\n",
       "</thead>\n",
       "<tbody>\n",
       "\t<tr><td>1</td><td> 314</td><td>5</td><td>1</td></tr>\n",
       "\t<tr><td>1</td><td> 439</td><td>3</td><td>1</td></tr>\n",
       "\t<tr><td>1</td><td> 588</td><td>5</td><td>1</td></tr>\n",
       "\t<tr><td>1</td><td>1169</td><td>4</td><td>1</td></tr>\n",
       "\t<tr><td>1</td><td>1185</td><td>4</td><td>1</td></tr>\n",
       "\t<tr><td>1</td><td>2077</td><td>4</td><td>1</td></tr>\n",
       "</tbody>\n",
       "</table>\n"
      ],
      "text/latex": [
       "A grouped\\_df: 6 × 4\n",
       "\\begin{tabular}{llll}\n",
       " book\\_id & user\\_id & rating & N\\\\\n",
       " <dbl> & <dbl> & <dbl> & <int>\\\\\n",
       "\\hline\n",
       "\t 1 &  314 & 5 & 1\\\\\n",
       "\t 1 &  439 & 3 & 1\\\\\n",
       "\t 1 &  588 & 5 & 1\\\\\n",
       "\t 1 & 1169 & 4 & 1\\\\\n",
       "\t 1 & 1185 & 4 & 1\\\\\n",
       "\t 1 & 2077 & 4 & 1\\\\\n",
       "\\end{tabular}\n"
      ],
      "text/markdown": [
       "\n",
       "A grouped_df: 6 × 4\n",
       "\n",
       "| book_id &lt;dbl&gt; | user_id &lt;dbl&gt; | rating &lt;dbl&gt; | N &lt;int&gt; |\n",
       "|---|---|---|---|\n",
       "| 1 |  314 | 5 | 1 |\n",
       "| 1 |  439 | 3 | 1 |\n",
       "| 1 |  588 | 5 | 1 |\n",
       "| 1 | 1169 | 4 | 1 |\n",
       "| 1 | 1185 | 4 | 1 |\n",
       "| 1 | 2077 | 4 | 1 |\n",
       "\n"
      ],
      "text/plain": [
       "  book_id user_id rating N\n",
       "1 1        314    5      1\n",
       "2 1        439    3      1\n",
       "3 1        588    5      1\n",
       "4 1       1169    4      1\n",
       "5 1       1185    4      1\n",
       "6 1       2077    4      1"
      ]
     },
     "metadata": {},
     "output_type": "display_data"
    }
   ],
   "source": [
    "head(ratings)"
   ]
  },
  {
   "cell_type": "code",
   "execution_count": 15,
   "metadata": {},
   "outputs": [
    {
     "data": {
      "text/plain": [
       "\n",
       "     1      2      3      4      5 \n",
       "977269   4298    156     28      5 "
      ]
     },
     "metadata": {},
     "output_type": "display_data"
    }
   ],
   "source": [
    "# same user rated same book how many time 1 to 5\n",
    "table(ratings$N)"
   ]
  },
  {
   "cell_type": "code",
   "execution_count": 16,
   "metadata": {},
   "outputs": [],
   "source": [
    "ratings %>% filter(N>1) -> duplicate_ratings"
   ]
  },
  {
   "cell_type": "code",
   "execution_count": 18,
   "metadata": {},
   "outputs": [
    {
     "data": {
      "text/html": [
       "<table>\n",
       "<caption>A grouped_df: 6 × 4</caption>\n",
       "<thead>\n",
       "\t<tr><th scope=col>book_id</th><th scope=col>user_id</th><th scope=col>rating</th><th scope=col>N</th></tr>\n",
       "\t<tr><th scope=col>&lt;dbl&gt;</th><th scope=col>&lt;dbl&gt;</th><th scope=col>&lt;dbl&gt;</th><th scope=col>&lt;int&gt;</th></tr>\n",
       "</thead>\n",
       "<tbody>\n",
       "\t<tr><td>12</td><td>40251</td><td>4</td><td>2</td></tr>\n",
       "\t<tr><td>12</td><td>40251</td><td>4</td><td>2</td></tr>\n",
       "\t<tr><td>25</td><td>32635</td><td>5</td><td>2</td></tr>\n",
       "\t<tr><td>25</td><td>32635</td><td>5</td><td>2</td></tr>\n",
       "\t<tr><td>28</td><td> 9011</td><td>2</td><td>2</td></tr>\n",
       "\t<tr><td>28</td><td> 9011</td><td>1</td><td>2</td></tr>\n",
       "</tbody>\n",
       "</table>\n"
      ],
      "text/latex": [
       "A grouped\\_df: 6 × 4\n",
       "\\begin{tabular}{llll}\n",
       " book\\_id & user\\_id & rating & N\\\\\n",
       " <dbl> & <dbl> & <dbl> & <int>\\\\\n",
       "\\hline\n",
       "\t 12 & 40251 & 4 & 2\\\\\n",
       "\t 12 & 40251 & 4 & 2\\\\\n",
       "\t 25 & 32635 & 5 & 2\\\\\n",
       "\t 25 & 32635 & 5 & 2\\\\\n",
       "\t 28 &  9011 & 2 & 2\\\\\n",
       "\t 28 &  9011 & 1 & 2\\\\\n",
       "\\end{tabular}\n"
      ],
      "text/markdown": [
       "\n",
       "A grouped_df: 6 × 4\n",
       "\n",
       "| book_id &lt;dbl&gt; | user_id &lt;dbl&gt; | rating &lt;dbl&gt; | N &lt;int&gt; |\n",
       "|---|---|---|---|\n",
       "| 12 | 40251 | 4 | 2 |\n",
       "| 12 | 40251 | 4 | 2 |\n",
       "| 25 | 32635 | 5 | 2 |\n",
       "| 25 | 32635 | 5 | 2 |\n",
       "| 28 |  9011 | 2 | 2 |\n",
       "| 28 |  9011 | 1 | 2 |\n",
       "\n"
      ],
      "text/plain": [
       "  book_id user_id rating N\n",
       "1 12      40251   4      2\n",
       "2 12      40251   4      2\n",
       "3 25      32635   5      2\n",
       "4 25      32635   5      2\n",
       "5 28       9011   2      2\n",
       "6 28       9011   1      2"
      ]
     },
     "metadata": {},
     "output_type": "display_data"
    }
   ],
   "source": [
    "head(duplicate_ratings)"
   ]
  },
  {
   "cell_type": "markdown",
   "metadata": {},
   "source": [
    "#### Remove duplicates ratings"
   ]
  },
  {
   "cell_type": "code",
   "execution_count": 20,
   "metadata": {},
   "outputs": [],
   "source": [
    "ratings %>% filter(N==1) -> ratings"
   ]
  },
  {
   "cell_type": "markdown",
   "metadata": {},
   "source": [
    "#### Removing users who rated fewer than 3 books"
   ]
  },
  {
   "cell_type": "code",
   "execution_count": 21,
   "metadata": {},
   "outputs": [],
   "source": [
    "ratings %>% group_by(user_id) %>% mutate(Ratings_Given = n()) -> ratings"
   ]
  },
  {
   "cell_type": "code",
   "execution_count": 22,
   "metadata": {},
   "outputs": [
    {
     "data": {
      "text/html": [
       "<table>\n",
       "<caption>A grouped_df: 6 × 5</caption>\n",
       "<thead>\n",
       "\t<tr><th scope=col>book_id</th><th scope=col>user_id</th><th scope=col>rating</th><th scope=col>N</th><th scope=col>Ratings_Given</th></tr>\n",
       "\t<tr><th scope=col>&lt;dbl&gt;</th><th scope=col>&lt;dbl&gt;</th><th scope=col>&lt;dbl&gt;</th><th scope=col>&lt;int&gt;</th><th scope=col>&lt;int&gt;</th></tr>\n",
       "</thead>\n",
       "<tbody>\n",
       "\t<tr><td>1</td><td> 314</td><td>5</td><td>1</td><td>181</td></tr>\n",
       "\t<tr><td>1</td><td> 439</td><td>3</td><td>1</td><td>173</td></tr>\n",
       "\t<tr><td>1</td><td> 588</td><td>5</td><td>1</td><td>186</td></tr>\n",
       "\t<tr><td>1</td><td>1169</td><td>4</td><td>1</td><td>187</td></tr>\n",
       "\t<tr><td>1</td><td>1185</td><td>4</td><td>1</td><td>190</td></tr>\n",
       "\t<tr><td>1</td><td>2077</td><td>4</td><td>1</td><td>180</td></tr>\n",
       "</tbody>\n",
       "</table>\n"
      ],
      "text/latex": [
       "A grouped\\_df: 6 × 5\n",
       "\\begin{tabular}{lllll}\n",
       " book\\_id & user\\_id & rating & N & Ratings\\_Given\\\\\n",
       " <dbl> & <dbl> & <dbl> & <int> & <int>\\\\\n",
       "\\hline\n",
       "\t 1 &  314 & 5 & 1 & 181\\\\\n",
       "\t 1 &  439 & 3 & 1 & 173\\\\\n",
       "\t 1 &  588 & 5 & 1 & 186\\\\\n",
       "\t 1 & 1169 & 4 & 1 & 187\\\\\n",
       "\t 1 & 1185 & 4 & 1 & 190\\\\\n",
       "\t 1 & 2077 & 4 & 1 & 180\\\\\n",
       "\\end{tabular}\n"
      ],
      "text/markdown": [
       "\n",
       "A grouped_df: 6 × 5\n",
       "\n",
       "| book_id &lt;dbl&gt; | user_id &lt;dbl&gt; | rating &lt;dbl&gt; | N &lt;int&gt; | Ratings_Given &lt;int&gt; |\n",
       "|---|---|---|---|---|\n",
       "| 1 |  314 | 5 | 1 | 181 |\n",
       "| 1 |  439 | 3 | 1 | 173 |\n",
       "| 1 |  588 | 5 | 1 | 186 |\n",
       "| 1 | 1169 | 4 | 1 | 187 |\n",
       "| 1 | 1185 | 4 | 1 | 190 |\n",
       "| 1 | 2077 | 4 | 1 | 180 |\n",
       "\n"
      ],
      "text/plain": [
       "  book_id user_id rating N Ratings_Given\n",
       "1 1        314    5      1 181          \n",
       "2 1        439    3      1 173          \n",
       "3 1        588    5      1 186          \n",
       "4 1       1169    4      1 187          \n",
       "5 1       1185    4      1 190          \n",
       "6 1       2077    4      1 180          "
      ]
     },
     "metadata": {},
     "output_type": "display_data"
    }
   ],
   "source": [
    "head(ratings)"
   ]
  },
  {
   "cell_type": "code",
   "execution_count": 26,
   "metadata": {},
   "outputs": [],
   "source": [
    "ratings %>% filter(Ratings_Given>2) -> ratings"
   ]
  },
  {
   "cell_type": "markdown",
   "metadata": {},
   "source": [
    "#### Selecting the sample from the entire dataset"
   ]
  },
  {
   "cell_type": "code",
   "execution_count": 27,
   "metadata": {},
   "outputs": [],
   "source": [
    "set.seed(1)"
   ]
  },
  {
   "cell_type": "code",
   "execution_count": 31,
   "metadata": {},
   "outputs": [],
   "source": [
    "user_fraction <- 0.02\n",
    "users <- unique(ratings$user_id)"
   ]
  },
  {
   "cell_type": "code",
   "execution_count": 32,
   "metadata": {},
   "outputs": [],
   "source": [
    "sample_users <- sample(users, round(user_fraction * length(users)))"
   ]
  },
  {
   "cell_type": "code",
   "execution_count": 33,
   "metadata": {},
   "outputs": [
    {
     "data": {
      "text/html": [
       "960595"
      ],
      "text/latex": [
       "960595"
      ],
      "text/markdown": [
       "960595"
      ],
      "text/plain": [
       "[1] 960595"
      ]
     },
     "metadata": {},
     "output_type": "display_data"
    }
   ],
   "source": [
    "nrow(ratings)"
   ]
  },
  {
   "cell_type": "code",
   "execution_count": 34,
   "metadata": {},
   "outputs": [],
   "source": [
    "ratings %>% filter(user_id %in% sample_users) -> ratings"
   ]
  },
  {
   "cell_type": "code",
   "execution_count": 35,
   "metadata": {},
   "outputs": [
    {
     "data": {
      "text/html": [
       "20132"
      ],
      "text/latex": [
       "20132"
      ],
      "text/markdown": [
       "20132"
      ],
      "text/plain": [
       "[1] 20132"
      ]
     },
     "metadata": {},
     "output_type": "display_data"
    }
   ],
   "source": [
    "nrow(ratings)"
   ]
  },
  {
   "cell_type": "code",
   "execution_count": 36,
   "metadata": {},
   "outputs": [
    {
     "data": {
      "text/html": [
       "<table>\n",
       "<caption>A grouped_df: 6 × 5</caption>\n",
       "<thead>\n",
       "\t<tr><th scope=col>book_id</th><th scope=col>user_id</th><th scope=col>rating</th><th scope=col>N</th><th scope=col>Ratings_Given</th></tr>\n",
       "\t<tr><th scope=col>&lt;dbl&gt;</th><th scope=col>&lt;dbl&gt;</th><th scope=col>&lt;dbl&gt;</th><th scope=col>&lt;int&gt;</th><th scope=col>&lt;int&gt;</th></tr>\n",
       "</thead>\n",
       "<tbody>\n",
       "\t<tr><td>1</td><td>38082</td><td>5</td><td>1</td><td>188</td></tr>\n",
       "\t<tr><td>1</td><td>39423</td><td>3</td><td>1</td><td>176</td></tr>\n",
       "\t<tr><td>2</td><td>38082</td><td>5</td><td>1</td><td>188</td></tr>\n",
       "\t<tr><td>2</td><td>42508</td><td>4</td><td>1</td><td>189</td></tr>\n",
       "\t<tr><td>3</td><td>38082</td><td>3</td><td>1</td><td>188</td></tr>\n",
       "\t<tr><td>4</td><td>32338</td><td>4</td><td>1</td><td>182</td></tr>\n",
       "</tbody>\n",
       "</table>\n"
      ],
      "text/latex": [
       "A grouped\\_df: 6 × 5\n",
       "\\begin{tabular}{lllll}\n",
       " book\\_id & user\\_id & rating & N & Ratings\\_Given\\\\\n",
       " <dbl> & <dbl> & <dbl> & <int> & <int>\\\\\n",
       "\\hline\n",
       "\t 1 & 38082 & 5 & 1 & 188\\\\\n",
       "\t 1 & 39423 & 3 & 1 & 176\\\\\n",
       "\t 2 & 38082 & 5 & 1 & 188\\\\\n",
       "\t 2 & 42508 & 4 & 1 & 189\\\\\n",
       "\t 3 & 38082 & 3 & 1 & 188\\\\\n",
       "\t 4 & 32338 & 4 & 1 & 182\\\\\n",
       "\\end{tabular}\n"
      ],
      "text/markdown": [
       "\n",
       "A grouped_df: 6 × 5\n",
       "\n",
       "| book_id &lt;dbl&gt; | user_id &lt;dbl&gt; | rating &lt;dbl&gt; | N &lt;int&gt; | Ratings_Given &lt;int&gt; |\n",
       "|---|---|---|---|---|\n",
       "| 1 | 38082 | 5 | 1 | 188 |\n",
       "| 1 | 39423 | 3 | 1 | 176 |\n",
       "| 2 | 38082 | 5 | 1 | 188 |\n",
       "| 2 | 42508 | 4 | 1 | 189 |\n",
       "| 3 | 38082 | 3 | 1 | 188 |\n",
       "| 4 | 32338 | 4 | 1 | 182 |\n",
       "\n"
      ],
      "text/plain": [
       "  book_id user_id rating N Ratings_Given\n",
       "1 1       38082   5      1 188          \n",
       "2 1       39423   3      1 176          \n",
       "3 2       38082   5      1 188          \n",
       "4 2       42508   4      1 189          \n",
       "5 3       38082   3      1 188          \n",
       "6 4       32338   4      1 182          "
      ]
     },
     "metadata": {},
     "output_type": "display_data"
    }
   ],
   "source": [
    "head(ratings)"
   ]
  },
  {
   "cell_type": "markdown",
   "metadata": {},
   "source": [
    "#### Making a distribution of ratings"
   ]
  },
  {
   "cell_type": "code",
   "execution_count": 39,
   "metadata": {},
   "outputs": [
    {
     "data": {
      "image/png": "[encoded data removed]",
      "text/plain": [
       "plot without title"
      ]
     },
     "metadata": {
      "image/png": {
       "height": 420,
       "width": 420
      },
      "text/plain": {
       "height": 420,
       "width": 420
      }
     },
     "output_type": "display_data"
    }
   ],
   "source": [
    "ggplot(data = ratings,aes(x = rating,fill = factor(rating))) + geom_bar(color = 'grey20') + scale_fill_brewer(palette = 'YlGnBu') + guides(fill = FALSE) + theme(text = element_text(size = 20))"
   ]
  },
  {
   "cell_type": "markdown",
   "metadata": {},
   "source": [
    "#### Number of ratings per book"
   ]
  },
  {
   "cell_type": "code",
   "execution_count": 40,
   "metadata": {},
   "outputs": [
    {
     "data": {
      "image/png": "[encoded data removed]",
      "text/plain": [
       "plot without title"
      ]
     },
     "metadata": {
      "image/png": {
       "height": 420,
       "width": 420
      },
      "text/plain": {
       "height": 420,
       "width": 420
      }
     },
     "output_type": "display_data"
    }
   ],
   "source": [
    "ratings %>% \n",
    "group_by(book_id) %>%\n",
    "summarize(number_of_ratings_per_book = n()) %>%\n",
    "\n",
    "ggplot(aes(number_of_ratings_per_book)) + \n",
    "geom_bar(fill = 'orange',col='grey20',width = 1) + coord_cartesian(c(0,40)) + \n",
    "theme(text = element_text(size = 15))"
   ]
  },
  {
   "cell_type": "markdown",
   "metadata": {},
   "source": [
    "#### Finding the count of different genres"
   ]
  },
  {
   "cell_type": "code",
   "execution_count": 41,
   "metadata": {},
   "outputs": [],
   "source": [
    "genres <- str_to_lower(c('Art','Biography','Business','Chick Lit',\"Children's\",'Christian','Classics','Comics','Cookbooks',\n",
    "                         'Crime','Fantasy','Gay and Lesbian','Graphic Novels','Historical Fiction','History','Horror',\n",
    "                         'Humor and Comedy','Manga','Memoir','Music','Mystery','Paranormal','Philosophy','Poetry','Psychology',\n",
    "                        'Religion','Romance','Science','Science Fiction','Self Help','Suspence','Spirituality','Sports',\n",
    "                        'Thriller','Travel','Young Adult'))"
   ]
  },
  {
   "cell_type": "code",
   "execution_count": 42,
   "metadata": {},
   "outputs": [],
   "source": [
    "available_genres <- genres[str_to_lower(genres) %in% tags$tag_name]"
   ]
  },
  {
   "cell_type": "code",
   "execution_count": 43,
   "metadata": {},
   "outputs": [
    {
     "data": {
      "text/html": [
       "<style>\n",
       ".list-inline {list-style: none; margin:0; padding: 0}\n",
       ".list-inline>li {display: inline-block}\n",
       ".list-inline>li:not(:last-child)::after {content: \"\\00b7\"; padding: 0 .5ex}\n",
       "</style>\n",
       "<ol class=list-inline><li>'art'</li><li>'biography'</li><li>'business'</li><li>'christian'</li><li>'classics'</li><li>'comics'</li><li>'cookbooks'</li><li>'crime'</li><li>'fantasy'</li><li>'history'</li><li>'horror'</li><li>'manga'</li><li>'memoir'</li><li>'music'</li><li>'mystery'</li><li>'paranormal'</li><li>'philosophy'</li><li>'poetry'</li><li>'psychology'</li><li>'religion'</li><li>'romance'</li><li>'science'</li><li>'suspence'</li><li>'spirituality'</li><li>'sports'</li><li>'thriller'</li><li>'travel'</li></ol>\n"
      ],
      "text/latex": [
       "\\begin{enumerate*}\n",
       "\\item 'art'\n",
       "\\item 'biography'\n",
       "\\item 'business'\n",
       "\\item 'christian'\n",
       "\\item 'classics'\n",
       "\\item 'comics'\n",
       "\\item 'cookbooks'\n",
       "\\item 'crime'\n",
       "\\item 'fantasy'\n",
       "\\item 'history'\n",
       "\\item 'horror'\n",
       "\\item 'manga'\n",
       "\\item 'memoir'\n",
       "\\item 'music'\n",
       "\\item 'mystery'\n",
       "\\item 'paranormal'\n",
       "\\item 'philosophy'\n",
       "\\item 'poetry'\n",
       "\\item 'psychology'\n",
       "\\item 'religion'\n",
       "\\item 'romance'\n",
       "\\item 'science'\n",
       "\\item 'suspence'\n",
       "\\item 'spirituality'\n",
       "\\item 'sports'\n",
       "\\item 'thriller'\n",
       "\\item 'travel'\n",
       "\\end{enumerate*}\n"
      ],
      "text/markdown": [
       "1. 'art'\n",
       "2. 'biography'\n",
       "3. 'business'\n",
       "4. 'christian'\n",
       "5. 'classics'\n",
       "6. 'comics'\n",
       "7. 'cookbooks'\n",
       "8. 'crime'\n",
       "9. 'fantasy'\n",
       "10. 'history'\n",
       "11. 'horror'\n",
       "12. 'manga'\n",
       "13. 'memoir'\n",
       "14. 'music'\n",
       "15. 'mystery'\n",
       "16. 'paranormal'\n",
       "17. 'philosophy'\n",
       "18. 'poetry'\n",
       "19. 'psychology'\n",
       "20. 'religion'\n",
       "21. 'romance'\n",
       "22. 'science'\n",
       "23. 'suspence'\n",
       "24. 'spirituality'\n",
       "25. 'sports'\n",
       "26. 'thriller'\n",
       "27. 'travel'\n",
       "\n",
       "\n"
      ],
      "text/plain": [
       " [1] \"art\"          \"biography\"    \"business\"     \"christian\"    \"classics\"    \n",
       " [6] \"comics\"       \"cookbooks\"    \"crime\"        \"fantasy\"      \"history\"     \n",
       "[11] \"horror\"       \"manga\"        \"memoir\"       \"music\"        \"mystery\"     \n",
       "[16] \"paranormal\"   \"philosophy\"   \"poetry\"       \"psychology\"   \"religion\"    \n",
       "[21] \"romance\"      \"science\"      \"suspence\"     \"spirituality\" \"sports\"      \n",
       "[26] \"thriller\"     \"travel\"      "
      ]
     },
     "metadata": {},
     "output_type": "display_data"
    }
   ],
   "source": [
    "available_genres"
   ]
  },
  {
   "cell_type": "code",
   "execution_count": 57,
   "metadata": {},
   "outputs": [],
   "source": [
    "available_tags <- tags$tag_id[match(available_genres, tags$tag_name)]"
   ]
  },
  {
   "cell_type": "code",
   "execution_count": 58,
   "metadata": {},
   "outputs": [
    {
     "data": {
      "text/html": [
       "<style>\n",
       ".list-inline {list-style: none; margin:0; padding: 0}\n",
       ".list-inline>li {display: inline-block}\n",
       ".list-inline>li:not(:last-child)::after {content: \"\\00b7\"; padding: 0 .5ex}\n",
       "</style>\n",
       "<ol class=list-inline><li>2938</li><li>4605</li><li>5951</li><li>7077</li><li>7457</li><li>7778</li><li>8150</li><li>8517</li><li>11305</li><li>14552</li><li>14821</li><li>19052</li><li>19733</li><li>20673</li><li>20939</li><li>22973</li><li>23471</li><li>23831</li><li>24526</li><li>25647</li><li>26138</li><li>26816</li><li>29073</li><li>28384</li><li>28422</li><li>30358</li><li>31155</li></ol>\n"
      ],
      "text/latex": [
       "\\begin{enumerate*}\n",
       "\\item 2938\n",
       "\\item 4605\n",
       "\\item 5951\n",
       "\\item 7077\n",
       "\\item 7457\n",
       "\\item 7778\n",
       "\\item 8150\n",
       "\\item 8517\n",
       "\\item 11305\n",
       "\\item 14552\n",
       "\\item 14821\n",
       "\\item 19052\n",
       "\\item 19733\n",
       "\\item 20673\n",
       "\\item 20939\n",
       "\\item 22973\n",
       "\\item 23471\n",
       "\\item 23831\n",
       "\\item 24526\n",
       "\\item 25647\n",
       "\\item 26138\n",
       "\\item 26816\n",
       "\\item 29073\n",
       "\\item 28384\n",
       "\\item 28422\n",
       "\\item 30358\n",
       "\\item 31155\n",
       "\\end{enumerate*}\n"
      ],
      "text/markdown": [
       "1. 2938\n",
       "2. 4605\n",
       "3. 5951\n",
       "4. 7077\n",
       "5. 7457\n",
       "6. 7778\n",
       "7. 8150\n",
       "8. 8517\n",
       "9. 11305\n",
       "10. 14552\n",
       "11. 14821\n",
       "12. 19052\n",
       "13. 19733\n",
       "14. 20673\n",
       "15. 20939\n",
       "16. 22973\n",
       "17. 23471\n",
       "18. 23831\n",
       "19. 24526\n",
       "20. 25647\n",
       "21. 26138\n",
       "22. 26816\n",
       "23. 29073\n",
       "24. 28384\n",
       "25. 28422\n",
       "26. 30358\n",
       "27. 31155\n",
       "\n",
       "\n"
      ],
      "text/plain": [
       " [1]  2938  4605  5951  7077  7457  7778  8150  8517 11305 14552 14821 19052\n",
       "[13] 19733 20673 20939 22973 23471 23831 24526 25647 26138 26816 29073 28384\n",
       "[25] 28422 30358 31155"
      ]
     },
     "metadata": {},
     "output_type": "display_data"
    }
   ],
   "source": [
    "available_tags"
   ]
  },
  {
   "cell_type": "code",
   "execution_count": 62,
   "metadata": {},
   "outputs": [
    {
     "data": {
      "text/html": [
       "<table>\n",
       "<caption>A tibble: 6 × 3</caption>\n",
       "<thead>\n",
       "\t<tr><th scope=col>goodreads_book_id</th><th scope=col>tag_id</th><th scope=col>count</th></tr>\n",
       "\t<tr><th scope=col>&lt;dbl&gt;</th><th scope=col>&lt;dbl&gt;</th><th scope=col>&lt;dbl&gt;</th></tr>\n",
       "</thead>\n",
       "<tbody>\n",
       "\t<tr><td>  36</td><td>2938</td><td> 31</td></tr>\n",
       "\t<tr><td> 119</td><td>2938</td><td> 66</td></tr>\n",
       "\t<tr><td> 840</td><td>2938</td><td> 63</td></tr>\n",
       "\t<tr><td> 960</td><td>2938</td><td> 80</td></tr>\n",
       "\t<tr><td> 968</td><td>2938</td><td>242</td></tr>\n",
       "\t<tr><td>1319</td><td>2938</td><td>291</td></tr>\n",
       "</tbody>\n",
       "</table>\n"
      ],
      "text/latex": [
       "A tibble: 6 × 3\n",
       "\\begin{tabular}{lll}\n",
       " goodreads\\_book\\_id & tag\\_id & count\\\\\n",
       " <dbl> & <dbl> & <dbl>\\\\\n",
       "\\hline\n",
       "\t   36 & 2938 &  31\\\\\n",
       "\t  119 & 2938 &  66\\\\\n",
       "\t  840 & 2938 &  63\\\\\n",
       "\t  960 & 2938 &  80\\\\\n",
       "\t  968 & 2938 & 242\\\\\n",
       "\t 1319 & 2938 & 291\\\\\n",
       "\\end{tabular}\n"
      ],
      "text/markdown": [
       "\n",
       "A tibble: 6 × 3\n",
       "\n",
       "| goodreads_book_id &lt;dbl&gt; | tag_id &lt;dbl&gt; | count &lt;dbl&gt; |\n",
       "|---|---|---|\n",
       "|   36 | 2938 |  31 |\n",
       "|  119 | 2938 |  66 |\n",
       "|  840 | 2938 |  63 |\n",
       "|  960 | 2938 |  80 |\n",
       "|  968 | 2938 | 242 |\n",
       "| 1319 | 2938 | 291 |\n",
       "\n"
      ],
      "text/plain": [
       "  goodreads_book_id tag_id count\n",
       "1   36              2938    31  \n",
       "2  119              2938    66  \n",
       "3  840              2938    63  \n",
       "4  960              2938    80  \n",
       "5  968              2938   242  \n",
       "6 1319              2938   291  "
      ]
     },
     "metadata": {},
     "output_type": "display_data"
    }
   ],
   "source": [
    "ab = book_tags %>% filter(tag_id %in% 2938)\n",
    "\n",
    "head(ab)"
   ]
  },
  {
   "cell_type": "code",
   "execution_count": 46,
   "metadata": {},
   "outputs": [],
   "source": [
    "book_tags %>% filter(tag_id %in% available_tags) %>%\n",
    "group_by(tag_id) %>%\n",
    "summarize(n = n()) %>%\n",
    "ungroup() %>%\n",
    "mutate(sumN = sum(n), percentage = n/sumN) %>%\n",
    "arrange(-percentage) %>%\n",
    "left_join(tags,by = 'tag_id') -> book_info"
   ]
  },
  {
   "cell_type": "code",
   "execution_count": 96,
   "metadata": {},
   "outputs": [
    {
     "data": {
      "text/html": [
       "<table>\n",
       "<caption>A tibble: 27 × 5</caption>\n",
       "<thead>\n",
       "\t<tr><th scope=col>tag_id</th><th scope=col>n</th><th scope=col>sumN</th><th scope=col>percentage</th><th scope=col>tag_name</th></tr>\n",
       "\t<tr><th scope=col>&lt;dbl&gt;</th><th scope=col>&lt;int&gt;</th><th scope=col>&lt;int&gt;</th><th scope=col>&lt;dbl&gt;</th><th scope=col>&lt;chr&gt;</th></tr>\n",
       "</thead>\n",
       "<tbody>\n",
       "\t<tr><td>11305</td><td>4259</td><td>34831</td><td>0.122276133</td><td>fantasy     </td></tr>\n",
       "\t<tr><td>26138</td><td>4251</td><td>34831</td><td>0.122046453</td><td>romance     </td></tr>\n",
       "\t<tr><td>20939</td><td>3686</td><td>34831</td><td>0.105825271</td><td>mystery     </td></tr>\n",
       "\t<tr><td> 7457</td><td>2785</td><td>34831</td><td>0.079957509</td><td>classics    </td></tr>\n",
       "\t<tr><td>30358</td><td>2522</td><td>34831</td><td>0.072406764</td><td>thriller    </td></tr>\n",
       "\t<tr><td>14552</td><td>2138</td><td>34831</td><td>0.061382102</td><td>history     </td></tr>\n",
       "\t<tr><td> 8517</td><td>2083</td><td>34831</td><td>0.059803049</td><td>crime       </td></tr>\n",
       "\t<tr><td>22973</td><td>1941</td><td>34831</td><td>0.055726221</td><td>paranormal  </td></tr>\n",
       "\t<tr><td>14821</td><td>1372</td><td>34831</td><td>0.039390198</td><td>horror      </td></tr>\n",
       "\t<tr><td>26816</td><td>1239</td><td>34831</td><td>0.035571761</td><td>science     </td></tr>\n",
       "\t<tr><td> 4605</td><td>1109</td><td>34831</td><td>0.031839453</td><td>biography   </td></tr>\n",
       "\t<tr><td>23471</td><td>1055</td><td>34831</td><td>0.030289110</td><td>philosophy  </td></tr>\n",
       "\t<tr><td>19733</td><td> 905</td><td>34831</td><td>0.025982602</td><td>memoir      </td></tr>\n",
       "\t<tr><td>25647</td><td> 893</td><td>34831</td><td>0.025638081</td><td>religion    </td></tr>\n",
       "\t<tr><td>24526</td><td> 810</td><td>34831</td><td>0.023255146</td><td>psychology  </td></tr>\n",
       "\t<tr><td>28384</td><td> 503</td><td>34831</td><td>0.014441159</td><td>spirituality</td></tr>\n",
       "\t<tr><td> 7778</td><td> 469</td><td>34831</td><td>0.013465017</td><td>comics      </td></tr>\n",
       "\t<tr><td>31155</td><td> 457</td><td>34831</td><td>0.013120496</td><td>travel      </td></tr>\n",
       "\t<tr><td> 2938</td><td> 436</td><td>34831</td><td>0.012517585</td><td>art         </td></tr>\n",
       "\t<tr><td> 5951</td><td> 377</td><td>34831</td><td>0.010823692</td><td>business    </td></tr>\n",
       "\t<tr><td>23831</td><td> 377</td><td>34831</td><td>0.010823692</td><td>poetry      </td></tr>\n",
       "\t<tr><td> 7077</td><td> 357</td><td>34831</td><td>0.010249490</td><td>christian   </td></tr>\n",
       "\t<tr><td>20673</td><td> 226</td><td>34831</td><td>0.006488473</td><td>music       </td></tr>\n",
       "\t<tr><td>19052</td><td> 196</td><td>34831</td><td>0.005627171</td><td>manga       </td></tr>\n",
       "\t<tr><td>28422</td><td> 196</td><td>34831</td><td>0.005627171</td><td>sports      </td></tr>\n",
       "\t<tr><td>29073</td><td>  97</td><td>34831</td><td>0.002784876</td><td>suspence    </td></tr>\n",
       "\t<tr><td> 8150</td><td>  92</td><td>34831</td><td>0.002641325</td><td>cookbooks   </td></tr>\n",
       "</tbody>\n",
       "</table>\n"
      ],
      "text/latex": [
       "A tibble: 27 × 5\n",
       "\\begin{tabular}{lllll}\n",
       " tag\\_id & n & sumN & percentage & tag\\_name\\\\\n",
       " <dbl> & <int> & <int> & <dbl> & <chr>\\\\\n",
       "\\hline\n",
       "\t 11305 & 4259 & 34831 & 0.122276133 & fantasy     \\\\\n",
       "\t 26138 & 4251 & 34831 & 0.122046453 & romance     \\\\\n",
       "\t 20939 & 3686 & 34831 & 0.105825271 & mystery     \\\\\n",
       "\t  7457 & 2785 & 34831 & 0.079957509 & classics    \\\\\n",
       "\t 30358 & 2522 & 34831 & 0.072406764 & thriller    \\\\\n",
       "\t 14552 & 2138 & 34831 & 0.061382102 & history     \\\\\n",
       "\t  8517 & 2083 & 34831 & 0.059803049 & crime       \\\\\n",
       "\t 22973 & 1941 & 34831 & 0.055726221 & paranormal  \\\\\n",
       "\t 14821 & 1372 & 34831 & 0.039390198 & horror      \\\\\n",
       "\t 26816 & 1239 & 34831 & 0.035571761 & science     \\\\\n",
       "\t  4605 & 1109 & 34831 & 0.031839453 & biography   \\\\\n",
       "\t 23471 & 1055 & 34831 & 0.030289110 & philosophy  \\\\\n",
       "\t 19733 &  905 & 34831 & 0.025982602 & memoir      \\\\\n",
       "\t 25647 &  893 & 34831 & 0.025638081 & religion    \\\\\n",
       "\t 24526 &  810 & 34831 & 0.023255146 & psychology  \\\\\n",
       "\t 28384 &  503 & 34831 & 0.014441159 & spirituality\\\\\n",
       "\t  7778 &  469 & 34831 & 0.013465017 & comics      \\\\\n",
       "\t 31155 &  457 & 34831 & 0.013120496 & travel      \\\\\n",
       "\t  2938 &  436 & 34831 & 0.012517585 & art         \\\\\n",
       "\t  5951 &  377 & 34831 & 0.010823692 & business    \\\\\n",
       "\t 23831 &  377 & 34831 & 0.010823692 & poetry      \\\\\n",
       "\t  7077 &  357 & 34831 & 0.010249490 & christian   \\\\\n",
       "\t 20673 &  226 & 34831 & 0.006488473 & music       \\\\\n",
       "\t 19052 &  196 & 34831 & 0.005627171 & manga       \\\\\n",
       "\t 28422 &  196 & 34831 & 0.005627171 & sports      \\\\\n",
       "\t 29073 &   97 & 34831 & 0.002784876 & suspence    \\\\\n",
       "\t  8150 &   92 & 34831 & 0.002641325 & cookbooks   \\\\\n",
       "\\end{tabular}\n"
      ],
      "text/markdown": [
       "\n",
       "A tibble: 27 × 5\n",
       "\n",
       "| tag_id &lt;dbl&gt; | n &lt;int&gt; | sumN &lt;int&gt; | percentage &lt;dbl&gt; | tag_name &lt;chr&gt; |\n",
       "|---|---|---|---|---|\n",
       "| 11305 | 4259 | 34831 | 0.122276133 | fantasy      |\n",
       "| 26138 | 4251 | 34831 | 0.122046453 | romance      |\n",
       "| 20939 | 3686 | 34831 | 0.105825271 | mystery      |\n",
       "|  7457 | 2785 | 34831 | 0.079957509 | classics     |\n",
       "| 30358 | 2522 | 34831 | 0.072406764 | thriller     |\n",
       "| 14552 | 2138 | 34831 | 0.061382102 | history      |\n",
       "|  8517 | 2083 | 34831 | 0.059803049 | crime        |\n",
       "| 22973 | 1941 | 34831 | 0.055726221 | paranormal   |\n",
       "| 14821 | 1372 | 34831 | 0.039390198 | horror       |\n",
       "| 26816 | 1239 | 34831 | 0.035571761 | science      |\n",
       "|  4605 | 1109 | 34831 | 0.031839453 | biography    |\n",
       "| 23471 | 1055 | 34831 | 0.030289110 | philosophy   |\n",
       "| 19733 |  905 | 34831 | 0.025982602 | memoir       |\n",
       "| 25647 |  893 | 34831 | 0.025638081 | religion     |\n",
       "| 24526 |  810 | 34831 | 0.023255146 | psychology   |\n",
       "| 28384 |  503 | 34831 | 0.014441159 | spirituality |\n",
       "|  7778 |  469 | 34831 | 0.013465017 | comics       |\n",
       "| 31155 |  457 | 34831 | 0.013120496 | travel       |\n",
       "|  2938 |  436 | 34831 | 0.012517585 | art          |\n",
       "|  5951 |  377 | 34831 | 0.010823692 | business     |\n",
       "| 23831 |  377 | 34831 | 0.010823692 | poetry       |\n",
       "|  7077 |  357 | 34831 | 0.010249490 | christian    |\n",
       "| 20673 |  226 | 34831 | 0.006488473 | music        |\n",
       "| 19052 |  196 | 34831 | 0.005627171 | manga        |\n",
       "| 28422 |  196 | 34831 | 0.005627171 | sports       |\n",
       "| 29073 |   97 | 34831 | 0.002784876 | suspence     |\n",
       "|  8150 |   92 | 34831 | 0.002641325 | cookbooks    |\n",
       "\n"
      ],
      "text/plain": [
       "   tag_id n    sumN  percentage  tag_name    \n",
       "1  11305  4259 34831 0.122276133 fantasy     \n",
       "2  26138  4251 34831 0.122046453 romance     \n",
       "3  20939  3686 34831 0.105825271 mystery     \n",
       "4   7457  2785 34831 0.079957509 classics    \n",
       "5  30358  2522 34831 0.072406764 thriller    \n",
       "6  14552  2138 34831 0.061382102 history     \n",
       "7   8517  2083 34831 0.059803049 crime       \n",
       "8  22973  1941 34831 0.055726221 paranormal  \n",
       "9  14821  1372 34831 0.039390198 horror      \n",
       "10 26816  1239 34831 0.035571761 science     \n",
       "11  4605  1109 34831 0.031839453 biography   \n",
       "12 23471  1055 34831 0.030289110 philosophy  \n",
       "13 19733   905 34831 0.025982602 memoir      \n",
       "14 25647   893 34831 0.025638081 religion    \n",
       "15 24526   810 34831 0.023255146 psychology  \n",
       "16 28384   503 34831 0.014441159 spirituality\n",
       "17  7778   469 34831 0.013465017 comics      \n",
       "18 31155   457 34831 0.013120496 travel      \n",
       "19  2938   436 34831 0.012517585 art         \n",
       "20  5951   377 34831 0.010823692 business    \n",
       "21 23831   377 34831 0.010823692 poetry      \n",
       "22  7077   357 34831 0.010249490 christian   \n",
       "23 20673   226 34831 0.006488473 music       \n",
       "24 19052   196 34831 0.005627171 manga       \n",
       "25 28422   196 34831 0.005627171 sports      \n",
       "26 29073    97 34831 0.002784876 suspence    \n",
       "27  8150    92 34831 0.002641325 cookbooks   "
      ]
     },
     "metadata": {},
     "output_type": "display_data"
    }
   ],
   "source": [
    "book_info"
   ]
  },
  {
   "cell_type": "code",
   "execution_count": 113,
   "metadata": {},
   "outputs": [
    {
     "data": {
      "image/png": "[encoded data removed]",
      "text/plain": [
       "plot without title"
      ]
     },
     "metadata": {
      "image/png": {
       "height": 420,
       "width": 420
      },
      "text/plain": {
       "height": 420,
       "width": 420
      }
     },
     "output_type": "display_data"
    }
   ],
   "source": [
    "book_info %>% \n",
    "ggplot(aes(reorder(tag_name, percentage), percentage, fill = percentage)) + geom_bar(stat = 'identity') + coord_flip()+\n",
    "scale_fill_distiller(palette = 'YlOrRd') + labs(y = 'percentage', x = 'genres') + theme(text = element_text(size = 15))"
   ]
  },
  {
   "cell_type": "markdown",
   "metadata": {},
   "source": [
    "#### finding the  top_10 books with highest rating"
   ]
  },
  {
   "cell_type": "code",
   "execution_count": 116,
   "metadata": {},
   "outputs": [],
   "source": [
    "books %>%\n",
    "arrange(-average_rating) %>%\n",
    "top_n(10,wt = average_rating) %>%\n",
    "select(title, ratings_count, average_rating) -> top10"
   ]
  },
  {
   "cell_type": "code",
   "execution_count": 117,
   "metadata": {},
   "outputs": [
    {
     "data": {
      "text/html": [
       "<table>\n",
       "<caption>A spec_tbl_df: 11 × 3</caption>\n",
       "<thead>\n",
       "\t<tr><th scope=col>title</th><th scope=col>ratings_count</th><th scope=col>average_rating</th></tr>\n",
       "\t<tr><th scope=col>&lt;chr&gt;</th><th scope=col>&lt;dbl&gt;</th><th scope=col>&lt;dbl&gt;</th></tr>\n",
       "</thead>\n",
       "<tbody>\n",
       "\t<tr><td>The Complete Calvin and Hobbes                                   </td><td> 28900</td><td>4.82</td></tr>\n",
       "\t<tr><td>Words of Radiance (The Stormlight Archive, #2)                   </td><td> 73572</td><td>4.77</td></tr>\n",
       "\t<tr><td>Harry Potter Boxed Set, Books 1-5 (Harry Potter, #1-5)           </td><td> 33220</td><td>4.77</td></tr>\n",
       "\t<tr><td>ESV Study Bible                                                  </td><td>  8953</td><td>4.76</td></tr>\n",
       "\t<tr><td>Mark of the Lion Trilogy                                         </td><td>  9081</td><td>4.76</td></tr>\n",
       "\t<tr><td>It's a Magical World: A Calvin and Hobbes Collection             </td><td> 22351</td><td>4.75</td></tr>\n",
       "\t<tr><td>Harry Potter Boxset (Harry Potter, #1-7)                         </td><td>190050</td><td>4.74</td></tr>\n",
       "\t<tr><td>There's Treasure Everywhere: A Calvin and Hobbes Collection      </td><td> 16766</td><td>4.74</td></tr>\n",
       "\t<tr><td>Harry Potter Collection (Harry Potter, #1-6)                     </td><td> 24618</td><td>4.73</td></tr>\n",
       "\t<tr><td>The Authoritative Calvin and Hobbes: A Calvin and Hobbes Treasury</td><td> 16087</td><td>4.73</td></tr>\n",
       "\t<tr><td>The Indispensable Calvin and Hobbes                              </td><td> 14597</td><td>4.73</td></tr>\n",
       "</tbody>\n",
       "</table>\n"
      ],
      "text/latex": [
       "A spec\\_tbl\\_df: 11 × 3\n",
       "\\begin{tabular}{lll}\n",
       " title & ratings\\_count & average\\_rating\\\\\n",
       " <chr> & <dbl> & <dbl>\\\\\n",
       "\\hline\n",
       "\t The Complete Calvin and Hobbes                                    &  28900 & 4.82\\\\\n",
       "\t Words of Radiance (The Stormlight Archive, \\#2)                    &  73572 & 4.77\\\\\n",
       "\t Harry Potter Boxed Set, Books 1-5 (Harry Potter, \\#1-5)            &  33220 & 4.77\\\\\n",
       "\t ESV Study Bible                                                   &   8953 & 4.76\\\\\n",
       "\t Mark of the Lion Trilogy                                          &   9081 & 4.76\\\\\n",
       "\t It's a Magical World: A Calvin and Hobbes Collection              &  22351 & 4.75\\\\\n",
       "\t Harry Potter Boxset (Harry Potter, \\#1-7)                          & 190050 & 4.74\\\\\n",
       "\t There's Treasure Everywhere: A Calvin and Hobbes Collection       &  16766 & 4.74\\\\\n",
       "\t Harry Potter Collection (Harry Potter, \\#1-6)                      &  24618 & 4.73\\\\\n",
       "\t The Authoritative Calvin and Hobbes: A Calvin and Hobbes Treasury &  16087 & 4.73\\\\\n",
       "\t The Indispensable Calvin and Hobbes                               &  14597 & 4.73\\\\\n",
       "\\end{tabular}\n"
      ],
      "text/markdown": [
       "\n",
       "A spec_tbl_df: 11 × 3\n",
       "\n",
       "| title &lt;chr&gt; | ratings_count &lt;dbl&gt; | average_rating &lt;dbl&gt; |\n",
       "|---|---|---|\n",
       "| The Complete Calvin and Hobbes                                    |  28900 | 4.82 |\n",
       "| Words of Radiance (The Stormlight Archive, #2)                    |  73572 | 4.77 |\n",
       "| Harry Potter Boxed Set, Books 1-5 (Harry Potter, #1-5)            |  33220 | 4.77 |\n",
       "| ESV Study Bible                                                   |   8953 | 4.76 |\n",
       "| Mark of the Lion Trilogy                                          |   9081 | 4.76 |\n",
       "| It's a Magical World: A Calvin and Hobbes Collection              |  22351 | 4.75 |\n",
       "| Harry Potter Boxset (Harry Potter, #1-7)                          | 190050 | 4.74 |\n",
       "| There's Treasure Everywhere: A Calvin and Hobbes Collection       |  16766 | 4.74 |\n",
       "| Harry Potter Collection (Harry Potter, #1-6)                      |  24618 | 4.73 |\n",
       "| The Authoritative Calvin and Hobbes: A Calvin and Hobbes Treasury |  16087 | 4.73 |\n",
       "| The Indispensable Calvin and Hobbes                               |  14597 | 4.73 |\n",
       "\n"
      ],
      "text/plain": [
       "   title                                                            \n",
       "1  The Complete Calvin and Hobbes                                   \n",
       "2  Words of Radiance (The Stormlight Archive, #2)                   \n",
       "3  Harry Potter Boxed Set, Books 1-5 (Harry Potter, #1-5)           \n",
       "4  ESV Study Bible                                                  \n",
       "5  Mark of the Lion Trilogy                                         \n",
       "6  It's a Magical World: A Calvin and Hobbes Collection             \n",
       "7  Harry Potter Boxset (Harry Potter, #1-7)                         \n",
       "8  There's Treasure Everywhere: A Calvin and Hobbes Collection      \n",
       "9  Harry Potter Collection (Harry Potter, #1-6)                     \n",
       "10 The Authoritative Calvin and Hobbes: A Calvin and Hobbes Treasury\n",
       "11 The Indispensable Calvin and Hobbes                              \n",
       "   ratings_count average_rating\n",
       "1   28900        4.82          \n",
       "2   73572        4.77          \n",
       "3   33220        4.77          \n",
       "4    8953        4.76          \n",
       "5    9081        4.76          \n",
       "6   22351        4.75          \n",
       "7  190050        4.74          \n",
       "8   16766        4.74          \n",
       "9   24618        4.73          \n",
       "10  16087        4.73          \n",
       "11  14597        4.73          "
      ]
     },
     "metadata": {},
     "output_type": "display_data"
    }
   ],
   "source": [
    "top10"
   ]
  },
  {
   "cell_type": "code",
   "execution_count": 123,
   "metadata": {},
   "outputs": [],
   "source": [
    "books %>%\n",
    "arrange(-ratings_count) %>%\n",
    "top_n(10,wt = ratings_count) %>%\n",
    "select(title, ratings_count, average_rating) -> top_popular"
   ]
  },
  {
   "cell_type": "code",
   "execution_count": 124,
   "metadata": {},
   "outputs": [
    {
     "data": {
      "text/html": [
       "<table>\n",
       "<caption>A spec_tbl_df: 10 × 3</caption>\n",
       "<thead>\n",
       "\t<tr><th scope=col>title</th><th scope=col>ratings_count</th><th scope=col>average_rating</th></tr>\n",
       "\t<tr><th scope=col>&lt;chr&gt;</th><th scope=col>&lt;dbl&gt;</th><th scope=col>&lt;dbl&gt;</th></tr>\n",
       "</thead>\n",
       "<tbody>\n",
       "\t<tr><td>The Hunger Games (The Hunger Games, #1)                 </td><td>4780653</td><td>4.34</td></tr>\n",
       "\t<tr><td>Harry Potter and the Sorcerer's Stone (Harry Potter, #1)</td><td>4602479</td><td>4.44</td></tr>\n",
       "\t<tr><td>Twilight (Twilight, #1)                                 </td><td>3866839</td><td>3.57</td></tr>\n",
       "\t<tr><td>To Kill a Mockingbird                                   </td><td>3198671</td><td>4.25</td></tr>\n",
       "\t<tr><td>The Great Gatsby                                        </td><td>2683664</td><td>3.89</td></tr>\n",
       "\t<tr><td>The Fault in Our Stars                                  </td><td>2346404</td><td>4.26</td></tr>\n",
       "\t<tr><td>The Hobbit                                              </td><td>2071616</td><td>4.25</td></tr>\n",
       "\t<tr><td>The Catcher in the Rye                                  </td><td>2044241</td><td>3.79</td></tr>\n",
       "\t<tr><td>Pride and Prejudice                                     </td><td>2035490</td><td>4.24</td></tr>\n",
       "\t<tr><td><span style=white-space:pre-wrap>Angels &amp; Demons  (Robert Langdon, #1)                   </span></td><td>2001311</td><td>3.85</td></tr>\n",
       "</tbody>\n",
       "</table>\n"
      ],
      "text/latex": [
       "A spec\\_tbl\\_df: 10 × 3\n",
       "\\begin{tabular}{lll}\n",
       " title & ratings\\_count & average\\_rating\\\\\n",
       " <chr> & <dbl> & <dbl>\\\\\n",
       "\\hline\n",
       "\t The Hunger Games (The Hunger Games, \\#1)                  & 4780653 & 4.34\\\\\n",
       "\t Harry Potter and the Sorcerer's Stone (Harry Potter, \\#1) & 4602479 & 4.44\\\\\n",
       "\t Twilight (Twilight, \\#1)                                  & 3866839 & 3.57\\\\\n",
       "\t To Kill a Mockingbird                                    & 3198671 & 4.25\\\\\n",
       "\t The Great Gatsby                                         & 2683664 & 3.89\\\\\n",
       "\t The Fault in Our Stars                                   & 2346404 & 4.26\\\\\n",
       "\t The Hobbit                                               & 2071616 & 4.25\\\\\n",
       "\t The Catcher in the Rye                                   & 2044241 & 3.79\\\\\n",
       "\t Pride and Prejudice                                      & 2035490 & 4.24\\\\\n",
       "\t Angels \\& Demons  (Robert Langdon, \\#1)                    & 2001311 & 3.85\\\\\n",
       "\\end{tabular}\n"
      ],
      "text/markdown": [
       "\n",
       "A spec_tbl_df: 10 × 3\n",
       "\n",
       "| title &lt;chr&gt; | ratings_count &lt;dbl&gt; | average_rating &lt;dbl&gt; |\n",
       "|---|---|---|\n",
       "| The Hunger Games (The Hunger Games, #1)                  | 4780653 | 4.34 |\n",
       "| Harry Potter and the Sorcerer's Stone (Harry Potter, #1) | 4602479 | 4.44 |\n",
       "| Twilight (Twilight, #1)                                  | 3866839 | 3.57 |\n",
       "| To Kill a Mockingbird                                    | 3198671 | 4.25 |\n",
       "| The Great Gatsby                                         | 2683664 | 3.89 |\n",
       "| The Fault in Our Stars                                   | 2346404 | 4.26 |\n",
       "| The Hobbit                                               | 2071616 | 4.25 |\n",
       "| The Catcher in the Rye                                   | 2044241 | 3.79 |\n",
       "| Pride and Prejudice                                      | 2035490 | 4.24 |\n",
       "| Angels &amp; Demons  (Robert Langdon, #1)                    | 2001311 | 3.85 |\n",
       "\n"
      ],
      "text/plain": [
       "   title                                                    ratings_count\n",
       "1  The Hunger Games (The Hunger Games, #1)                  4780653      \n",
       "2  Harry Potter and the Sorcerer's Stone (Harry Potter, #1) 4602479      \n",
       "3  Twilight (Twilight, #1)                                  3866839      \n",
       "4  To Kill a Mockingbird                                    3198671      \n",
       "5  The Great Gatsby                                         2683664      \n",
       "6  The Fault in Our Stars                                   2346404      \n",
       "7  The Hobbit                                               2071616      \n",
       "8  The Catcher in the Rye                                   2044241      \n",
       "9  Pride and Prejudice                                      2035490      \n",
       "10 Angels & Demons  (Robert Langdon, #1)                    2001311      \n",
       "   average_rating\n",
       "1  4.34          \n",
       "2  4.44          \n",
       "3  3.57          \n",
       "4  4.25          \n",
       "5  3.89          \n",
       "6  4.26          \n",
       "7  4.25          \n",
       "8  3.79          \n",
       "9  4.24          \n",
       "10 3.85          "
      ]
     },
     "metadata": {},
     "output_type": "display_data"
    }
   ],
   "source": [
    "top_popular"
   ]
  },
  {
   "cell_type": "markdown",
   "metadata": {},
   "source": [
    "#### Re-structuring our data to build collabrative Filtring"
   ]
  },
  {
   "cell_type": "code",
   "execution_count": 129,
   "metadata": {},
   "outputs": [
    {
     "name": "stderr",
     "output_type": "stream",
     "text": [
      "Adding missing grouping variables: `user_id`\n",
      "\n"
     ]
    }
   ],
   "source": [
    "dimension_names = list(user_id = sort(unique(ratings$user_id)), book_id = sort(unique(ratings$book_id)))  \n",
    "ratingmat = spread(select(ratings, book_id, user_id, rating), book_id, rating) %>% select(-user_id)"
   ]
  },
  {
   "cell_type": "code",
   "execution_count": 130,
   "metadata": {},
   "outputs": [
    {
     "data": {
      "text/html": [
       "<style>\n",
       ".list-inline {list-style: none; margin:0; padding: 0}\n",
       ".list-inline>li {display: inline-block}\n",
       ".list-inline>li:not(:last-child)::after {content: \"\\00b7\"; padding: 0 .5ex}\n",
       "</style>\n",
       "<ol class=list-inline><li>'grouped_df'</li><li>'tbl_df'</li><li>'tbl'</li><li>'data.frame'</li></ol>\n"
      ],
      "text/latex": [
       "\\begin{enumerate*}\n",
       "\\item 'grouped\\_df'\n",
       "\\item 'tbl\\_df'\n",
       "\\item 'tbl'\n",
       "\\item 'data.frame'\n",
       "\\end{enumerate*}\n"
      ],
      "text/markdown": [
       "1. 'grouped_df'\n",
       "2. 'tbl_df'\n",
       "3. 'tbl'\n",
       "4. 'data.frame'\n",
       "\n",
       "\n"
      ],
      "text/plain": [
       "[1] \"grouped_df\" \"tbl_df\"     \"tbl\"        \"data.frame\""
      ]
     },
     "metadata": {},
     "output_type": "display_data"
    }
   ],
   "source": [
    "class(ratingmat)"
   ]
  },
  {
   "cell_type": "code",
   "execution_count": 131,
   "metadata": {},
   "outputs": [],
   "source": [
    "ratingmat <- as.matrix(ratingmat)"
   ]
  },
  {
   "cell_type": "code",
   "execution_count": 132,
   "metadata": {},
   "outputs": [
    {
     "data": {
      "text/html": [
       "<table>\n",
       "<caption>A matrix: 5 × 5 of type dbl</caption>\n",
       "<thead>\n",
       "\t<tr><th scope=col>user_id</th><th scope=col>1</th><th scope=col>2</th><th scope=col>3</th><th scope=col>4</th></tr>\n",
       "</thead>\n",
       "<tbody>\n",
       "\t<tr><td> 85</td><td>NA</td><td>NA</td><td>NA</td><td>NA</td></tr>\n",
       "\t<tr><td>112</td><td>NA</td><td>NA</td><td>NA</td><td>NA</td></tr>\n",
       "\t<tr><td>130</td><td>NA</td><td>NA</td><td>NA</td><td>NA</td></tr>\n",
       "\t<tr><td>131</td><td>NA</td><td>NA</td><td>NA</td><td>NA</td></tr>\n",
       "\t<tr><td>149</td><td>NA</td><td>NA</td><td>NA</td><td>NA</td></tr>\n",
       "</tbody>\n",
       "</table>\n"
      ],
      "text/latex": [
       "A matrix: 5 × 5 of type dbl\n",
       "\\begin{tabular}{lllll}\n",
       " user\\_id & 1 & 2 & 3 & 4\\\\\n",
       "\\hline\n",
       "\t  85 & NA & NA & NA & NA\\\\\n",
       "\t 112 & NA & NA & NA & NA\\\\\n",
       "\t 130 & NA & NA & NA & NA\\\\\n",
       "\t 131 & NA & NA & NA & NA\\\\\n",
       "\t 149 & NA & NA & NA & NA\\\\\n",
       "\\end{tabular}\n"
      ],
      "text/markdown": [
       "\n",
       "A matrix: 5 × 5 of type dbl\n",
       "\n",
       "| user_id | 1 | 2 | 3 | 4 |\n",
       "|---|---|---|---|---|\n",
       "|  85 | NA | NA | NA | NA |\n",
       "| 112 | NA | NA | NA | NA |\n",
       "| 130 | NA | NA | NA | NA |\n",
       "| 131 | NA | NA | NA | NA |\n",
       "| 149 | NA | NA | NA | NA |\n",
       "\n"
      ],
      "text/plain": [
       "     user_id 1  2  3  4 \n",
       "[1,]  85     NA NA NA NA\n",
       "[2,] 112     NA NA NA NA\n",
       "[3,] 130     NA NA NA NA\n",
       "[4,] 131     NA NA NA NA\n",
       "[5,] 149     NA NA NA NA"
      ]
     },
     "metadata": {},
     "output_type": "display_data"
    }
   ],
   "source": [
    "ratingmat[1:5,1:5]"
   ]
  },
  {
   "cell_type": "code",
   "execution_count": 133,
   "metadata": {},
   "outputs": [],
   "source": [
    "ratingmat[,-1] -> ratingmat"
   ]
  },
  {
   "cell_type": "code",
   "execution_count": 134,
   "metadata": {},
   "outputs": [],
   "source": [
    "dimnames(ratingmat) <- dimension_names"
   ]
  },
  {
   "cell_type": "code",
   "execution_count": 139,
   "metadata": {},
   "outputs": [
    {
     "data": {
      "text/html": [
       "<table>\n",
       "<caption>A matrix: 5 × 5 of type dbl</caption>\n",
       "<thead>\n",
       "\t<tr><th></th><th scope=col>1</th><th scope=col>2</th><th scope=col>3</th><th scope=col>4</th><th scope=col>5</th></tr>\n",
       "</thead>\n",
       "<tbody>\n",
       "\t<tr><th scope=row>85</th><td>NA</td><td>NA</td><td>NA</td><td>NA</td><td>NA</td></tr>\n",
       "\t<tr><th scope=row>112</th><td>NA</td><td>NA</td><td>NA</td><td>NA</td><td>NA</td></tr>\n",
       "\t<tr><th scope=row>130</th><td>NA</td><td>NA</td><td>NA</td><td>NA</td><td>NA</td></tr>\n",
       "\t<tr><th scope=row>131</th><td>NA</td><td>NA</td><td>NA</td><td>NA</td><td>NA</td></tr>\n",
       "\t<tr><th scope=row>149</th><td>NA</td><td>NA</td><td>NA</td><td>NA</td><td>NA</td></tr>\n",
       "</tbody>\n",
       "</table>\n"
      ],
      "text/latex": [
       "A matrix: 5 × 5 of type dbl\n",
       "\\begin{tabular}{r|lllll}\n",
       "  & 1 & 2 & 3 & 4 & 5\\\\\n",
       "\\hline\n",
       "\t85 & NA & NA & NA & NA & NA\\\\\n",
       "\t112 & NA & NA & NA & NA & NA\\\\\n",
       "\t130 & NA & NA & NA & NA & NA\\\\\n",
       "\t131 & NA & NA & NA & NA & NA\\\\\n",
       "\t149 & NA & NA & NA & NA & NA\\\\\n",
       "\\end{tabular}\n"
      ],
      "text/markdown": [
       "\n",
       "A matrix: 5 × 5 of type dbl\n",
       "\n",
       "| <!--/--> | 1 | 2 | 3 | 4 | 5 |\n",
       "|---|---|---|---|---|---|\n",
       "| 85 | NA | NA | NA | NA | NA |\n",
       "| 112 | NA | NA | NA | NA | NA |\n",
       "| 130 | NA | NA | NA | NA | NA |\n",
       "| 131 | NA | NA | NA | NA | NA |\n",
       "| 149 | NA | NA | NA | NA | NA |\n",
       "\n"
      ],
      "text/plain": [
       "       book_id\n",
       "user_id 1  2  3  4  5 \n",
       "    85  NA NA NA NA NA\n",
       "    112 NA NA NA NA NA\n",
       "    130 NA NA NA NA NA\n",
       "    131 NA NA NA NA NA\n",
       "    149 NA NA NA NA NA"
      ]
     },
     "metadata": {},
     "output_type": "display_data"
    }
   ],
   "source": [
    "ratingmat[1:5,1:5]"
   ]
  },
  {
   "cell_type": "code",
   "execution_count": 137,
   "metadata": {},
   "outputs": [
    {
     "data": {
      "text/html": [
       "<style>\n",
       ".list-inline {list-style: none; margin:0; padding: 0}\n",
       ".list-inline>li {display: inline-block}\n",
       ".list-inline>li:not(:last-child)::after {content: \"\\00b7\"; padding: 0 .5ex}\n",
       "</style>\n",
       "<ol class=list-inline><li>900</li><li>8630</li></ol>\n"
      ],
      "text/latex": [
       "\\begin{enumerate*}\n",
       "\\item 900\n",
       "\\item 8630\n",
       "\\end{enumerate*}\n"
      ],
      "text/markdown": [
       "1. 900\n",
       "2. 8630\n",
       "\n",
       "\n"
      ],
      "text/plain": [
       "[1]  900 8630"
      ]
     },
     "metadata": {},
     "output_type": "display_data"
    }
   ],
   "source": [
    "dim(ratingmat)"
   ]
  },
  {
   "cell_type": "markdown",
   "metadata": {},
   "source": [
    "#### converting the rating matrix into a real rating matrix"
   ]
  },
  {
   "cell_type": "code",
   "execution_count": 140,
   "metadata": {},
   "outputs": [],
   "source": [
    "ratingmat0 <- ratingmat"
   ]
  },
  {
   "cell_type": "code",
   "execution_count": 141,
   "metadata": {},
   "outputs": [
    {
     "data": {
      "text/html": [
       "<style>\n",
       ".list-inline {list-style: none; margin:0; padding: 0}\n",
       ".list-inline>li {display: inline-block}\n",
       ".list-inline>li:not(:last-child)::after {content: \"\\00b7\"; padding: 0 .5ex}\n",
       "</style>\n",
       "<ol class=list-inline><li>900</li><li>8630</li></ol>\n"
      ],
      "text/latex": [
       "\\begin{enumerate*}\n",
       "\\item 900\n",
       "\\item 8630\n",
       "\\end{enumerate*}\n"
      ],
      "text/markdown": [
       "1. 900\n",
       "2. 8630\n",
       "\n",
       "\n"
      ],
      "text/plain": [
       "[1]  900 8630"
      ]
     },
     "metadata": {},
     "output_type": "display_data"
    }
   ],
   "source": [
    "dim(ratingmat0)"
   ]
  },
  {
   "cell_type": "code",
   "execution_count": 145,
   "metadata": {},
   "outputs": [
    {
     "data": {
      "text/plain": [
       "900 x 8630 rating matrix of class 'realRatingMatrix' with 19630 ratings."
      ]
     },
     "metadata": {},
     "output_type": "display_data"
    }
   ],
   "source": [
    "ratingmat0[is.na(ratingmat0)] <- 0\n",
    "sparse_ratings <- as(ratingmat0, 'sparseMatrix')\n",
    "real_ratings <- new('realRatingMatrix',data = sparse_ratings)\n",
    "real_ratings"
   ]
  },
  {
   "cell_type": "markdown",
   "metadata": {},
   "source": [
    "### Splitting the data into train & test"
   ]
  },
  {
   "cell_type": "code",
   "execution_count": 146,
   "metadata": {},
   "outputs": [],
   "source": [
    "sample(x=c(T,F),size=nrow(real_ratings),replace = T, prob = c(0.8,0.2)) -> split_book"
   ]
  },
  {
   "cell_type": "code",
   "execution_count": 148,
   "metadata": {},
   "outputs": [],
   "source": [
    "real_ratings[split_book,] -> recc_train\n",
    "real_ratings[!split_book,] -> recc_test"
   ]
  },
  {
   "cell_type": "markdown",
   "metadata": {},
   "source": [
    "#### Building the ubcf model"
   ]
  },
  {
   "cell_type": "code",
   "execution_count": 150,
   "metadata": {},
   "outputs": [],
   "source": [
    "Recommender(data = recc_train,method = 'UBCF') -> recc_model_ubcf\n",
    "n_recommended_ubcf <- 6"
   ]
  },
  {
   "cell_type": "markdown",
   "metadata": {},
   "source": [
    "### Recommending books"
   ]
  },
  {
   "cell_type": "code",
   "execution_count": 152,
   "metadata": {},
   "outputs": [],
   "source": [
    "predict(object=recc_model_ubcf,newdata=recc_test,n=n_recommended_ubcf) -> recc_predicted_ubcf"
   ]
  },
  {
   "cell_type": "markdown",
   "metadata": {},
   "source": [
    "### * <font style = color:green>Recommending books for user number-1"
   ]
  },
  {
   "cell_type": "code",
   "execution_count": 153,
   "metadata": {},
   "outputs": [
    {
     "data": {
      "text/html": [
       "<style>\n",
       ".list-inline {list-style: none; margin:0; padding: 0}\n",
       ".list-inline>li {display: inline-block}\n",
       ".list-inline>li:not(:last-child)::after {content: \"\\00b7\"; padding: 0 .5ex}\n",
       "</style>\n",
       "<ol class=list-inline><li>'6038'</li><li>'9534'</li><li>'3085'</li><li>'7209'</li><li>'9312'</li><li>'985'</li></ol>\n"
      ],
      "text/latex": [
       "\\begin{enumerate*}\n",
       "\\item '6038'\n",
       "\\item '9534'\n",
       "\\item '3085'\n",
       "\\item '7209'\n",
       "\\item '9312'\n",
       "\\item '985'\n",
       "\\end{enumerate*}\n"
      ],
      "text/markdown": [
       "1. '6038'\n",
       "2. '9534'\n",
       "3. '3085'\n",
       "4. '7209'\n",
       "5. '9312'\n",
       "6. '985'\n",
       "\n",
       "\n"
      ],
      "text/plain": [
       "[1] \"6038\" \"9534\" \"3085\" \"7209\" \"9312\" \"985\" "
      ]
     },
     "metadata": {},
     "output_type": "display_data"
    }
   ],
   "source": [
    "recc_predicted_ubcf@items[[1]] -> user1_book_numbers\n",
    "recc_predicted_ubcf@itemLabels[user1_book_numbers]"
   ]
  },
  {
   "cell_type": "code",
   "execution_count": 162,
   "metadata": {},
   "outputs": [
    {
     "data": {
      "text/html": [
       "<table>\n",
       "<caption>A spec_tbl_df: 1 × 2</caption>\n",
       "<thead>\n",
       "\t<tr><th scope=col>title</th><th scope=col>authors</th></tr>\n",
       "\t<tr><th scope=col>&lt;chr&gt;</th><th scope=col>&lt;chr&gt;</th></tr>\n",
       "</thead>\n",
       "<tbody>\n",
       "\t<tr><td>Flyboys: A True Story of Courage</td><td>James D. Bradley</td></tr>\n",
       "</tbody>\n",
       "</table>\n"
      ],
      "text/latex": [
       "A spec\\_tbl\\_df: 1 × 2\n",
       "\\begin{tabular}{ll}\n",
       " title & authors\\\\\n",
       " <chr> & <chr>\\\\\n",
       "\\hline\n",
       "\t Flyboys: A True Story of Courage & James D. Bradley\\\\\n",
       "\\end{tabular}\n"
      ],
      "text/markdown": [
       "\n",
       "A spec_tbl_df: 1 × 2\n",
       "\n",
       "| title &lt;chr&gt; | authors &lt;chr&gt; |\n",
       "|---|---|\n",
       "| Flyboys: A True Story of Courage | James D. Bradley |\n",
       "\n"
      ],
      "text/plain": [
       "  title                            authors         \n",
       "1 Flyboys: A True Story of Courage James D. Bradley"
      ]
     },
     "metadata": {},
     "output_type": "display_data"
    },
    {
     "data": {
      "text/html": [
       "<table>\n",
       "<caption>A spec_tbl_df: 1 × 2</caption>\n",
       "<thead>\n",
       "\t<tr><th scope=col>title</th><th scope=col>authors</th></tr>\n",
       "\t<tr><th scope=col>&lt;chr&gt;</th><th scope=col>&lt;chr&gt;</th></tr>\n",
       "</thead>\n",
       "<tbody>\n",
       "\t<tr><td>Become a Better You: 7 Keys to Improving Your Life Every Day</td><td>Joel Osteen</td></tr>\n",
       "</tbody>\n",
       "</table>\n"
      ],
      "text/latex": [
       "A spec\\_tbl\\_df: 1 × 2\n",
       "\\begin{tabular}{ll}\n",
       " title & authors\\\\\n",
       " <chr> & <chr>\\\\\n",
       "\\hline\n",
       "\t Become a Better You: 7 Keys to Improving Your Life Every Day & Joel Osteen\\\\\n",
       "\\end{tabular}\n"
      ],
      "text/markdown": [
       "\n",
       "A spec_tbl_df: 1 × 2\n",
       "\n",
       "| title &lt;chr&gt; | authors &lt;chr&gt; |\n",
       "|---|---|\n",
       "| Become a Better You: 7 Keys to Improving Your Life Every Day | Joel Osteen |\n",
       "\n"
      ],
      "text/plain": [
       "  title                                                        authors    \n",
       "1 Become a Better You: 7 Keys to Improving Your Life Every Day Joel Osteen"
      ]
     },
     "metadata": {},
     "output_type": "display_data"
    },
    {
     "data": {
      "text/html": [
       "<table>\n",
       "<caption>A spec_tbl_df: 1 × 2</caption>\n",
       "<thead>\n",
       "\t<tr><th scope=col>title</th><th scope=col>authors</th></tr>\n",
       "\t<tr><th scope=col>&lt;chr&gt;</th><th scope=col>&lt;chr&gt;</th></tr>\n",
       "</thead>\n",
       "<tbody>\n",
       "\t<tr><td>Narcissus and Goldmund</td><td>Hermann Hesse, Ursule Molinaro</td></tr>\n",
       "</tbody>\n",
       "</table>\n"
      ],
      "text/latex": [
       "A spec\\_tbl\\_df: 1 × 2\n",
       "\\begin{tabular}{ll}\n",
       " title & authors\\\\\n",
       " <chr> & <chr>\\\\\n",
       "\\hline\n",
       "\t Narcissus and Goldmund & Hermann Hesse, Ursule Molinaro\\\\\n",
       "\\end{tabular}\n"
      ],
      "text/markdown": [
       "\n",
       "A spec_tbl_df: 1 × 2\n",
       "\n",
       "| title &lt;chr&gt; | authors &lt;chr&gt; |\n",
       "|---|---|\n",
       "| Narcissus and Goldmund | Hermann Hesse, Ursule Molinaro |\n",
       "\n"
      ],
      "text/plain": [
       "  title                  authors                       \n",
       "1 Narcissus and Goldmund Hermann Hesse, Ursule Molinaro"
      ]
     },
     "metadata": {},
     "output_type": "display_data"
    },
    {
     "data": {
      "text/html": [
       "<table>\n",
       "<caption>A spec_tbl_df: 1 × 2</caption>\n",
       "<thead>\n",
       "\t<tr><th scope=col>title</th><th scope=col>authors</th></tr>\n",
       "\t<tr><th scope=col>&lt;chr&gt;</th><th scope=col>&lt;chr&gt;</th></tr>\n",
       "</thead>\n",
       "<tbody>\n",
       "\t<tr><td>Paris</td><td>Edward Rutherfurd</td></tr>\n",
       "</tbody>\n",
       "</table>\n"
      ],
      "text/latex": [
       "A spec\\_tbl\\_df: 1 × 2\n",
       "\\begin{tabular}{ll}\n",
       " title & authors\\\\\n",
       " <chr> & <chr>\\\\\n",
       "\\hline\n",
       "\t Paris & Edward Rutherfurd\\\\\n",
       "\\end{tabular}\n"
      ],
      "text/markdown": [
       "\n",
       "A spec_tbl_df: 1 × 2\n",
       "\n",
       "| title &lt;chr&gt; | authors &lt;chr&gt; |\n",
       "|---|---|\n",
       "| Paris | Edward Rutherfurd |\n",
       "\n"
      ],
      "text/plain": [
       "  title authors          \n",
       "1 Paris Edward Rutherfurd"
      ]
     },
     "metadata": {},
     "output_type": "display_data"
    },
    {
     "data": {
      "text/html": [
       "<table>\n",
       "<caption>A spec_tbl_df: 1 × 2</caption>\n",
       "<thead>\n",
       "\t<tr><th scope=col>title</th><th scope=col>authors</th></tr>\n",
       "\t<tr><th scope=col>&lt;chr&gt;</th><th scope=col>&lt;chr&gt;</th></tr>\n",
       "</thead>\n",
       "<tbody>\n",
       "\t<tr><td>Crimson Shore (Pendergast, #15)</td><td>Douglas Preston, Lincoln Child</td></tr>\n",
       "</tbody>\n",
       "</table>\n"
      ],
      "text/latex": [
       "A spec\\_tbl\\_df: 1 × 2\n",
       "\\begin{tabular}{ll}\n",
       " title & authors\\\\\n",
       " <chr> & <chr>\\\\\n",
       "\\hline\n",
       "\t Crimson Shore (Pendergast, \\#15) & Douglas Preston, Lincoln Child\\\\\n",
       "\\end{tabular}\n"
      ],
      "text/markdown": [
       "\n",
       "A spec_tbl_df: 1 × 2\n",
       "\n",
       "| title &lt;chr&gt; | authors &lt;chr&gt; |\n",
       "|---|---|\n",
       "| Crimson Shore (Pendergast, #15) | Douglas Preston, Lincoln Child |\n",
       "\n"
      ],
      "text/plain": [
       "  title                           authors                       \n",
       "1 Crimson Shore (Pendergast, #15) Douglas Preston, Lincoln Child"
      ]
     },
     "metadata": {},
     "output_type": "display_data"
    },
    {
     "data": {
      "text/html": [
       "<table>\n",
       "<caption>A spec_tbl_df: 1 × 2</caption>\n",
       "<thead>\n",
       "\t<tr><th scope=col>title</th><th scope=col>authors</th></tr>\n",
       "\t<tr><th scope=col>&lt;chr&gt;</th><th scope=col>&lt;chr&gt;</th></tr>\n",
       "</thead>\n",
       "<tbody>\n",
       "\t<tr><td>The Big Short: Inside the Doomsday Machine</td><td>Michael   Lewis</td></tr>\n",
       "</tbody>\n",
       "</table>\n"
      ],
      "text/latex": [
       "A spec\\_tbl\\_df: 1 × 2\n",
       "\\begin{tabular}{ll}\n",
       " title & authors\\\\\n",
       " <chr> & <chr>\\\\\n",
       "\\hline\n",
       "\t The Big Short: Inside the Doomsday Machine & Michael   Lewis\\\\\n",
       "\\end{tabular}\n"
      ],
      "text/markdown": [
       "\n",
       "A spec_tbl_df: 1 × 2\n",
       "\n",
       "| title &lt;chr&gt; | authors &lt;chr&gt; |\n",
       "|---|---|\n",
       "| The Big Short: Inside the Doomsday Machine | Michael   Lewis |\n",
       "\n"
      ],
      "text/plain": [
       "  title                                      authors        \n",
       "1 The Big Short: Inside the Doomsday Machine Michael   Lewis"
      ]
     },
     "metadata": {},
     "output_type": "display_data"
    }
   ],
   "source": [
    "books %>% filter(id==6038) %>% select(title,authors)\n",
    "books %>% filter(id==9534) %>% select(title,authors)\n",
    "books %>% filter(id==3085) %>% select(title,authors)\n",
    "books %>% filter(id==7209) %>% select(title,authors)\n",
    "books %>% filter(id==9312) %>% select(title,authors)\n",
    "books %>% filter(id==985) %>% select(title,authors)"
   ]
  },
  {
   "cell_type": "markdown",
   "metadata": {},
   "source": [
    "* <font style = color:green>Recommending books for user number-6"
   ]
  },
  {
   "cell_type": "code",
   "execution_count": 163,
   "metadata": {},
   "outputs": [
    {
     "data": {
      "text/html": [
       "<style>\n",
       ".list-inline {list-style: none; margin:0; padding: 0}\n",
       ".list-inline>li {display: inline-block}\n",
       ".list-inline>li:not(:last-child)::after {content: \"\\00b7\"; padding: 0 .5ex}\n",
       "</style>\n",
       "<ol class=list-inline><li>'8847'</li><li>'5923'</li><li>'4212'</li><li>'8867'</li><li>'2772'</li><li>'3350'</li></ol>\n"
      ],
      "text/latex": [
       "\\begin{enumerate*}\n",
       "\\item '8847'\n",
       "\\item '5923'\n",
       "\\item '4212'\n",
       "\\item '8867'\n",
       "\\item '2772'\n",
       "\\item '3350'\n",
       "\\end{enumerate*}\n"
      ],
      "text/markdown": [
       "1. '8847'\n",
       "2. '5923'\n",
       "3. '4212'\n",
       "4. '8867'\n",
       "5. '2772'\n",
       "6. '3350'\n",
       "\n",
       "\n"
      ],
      "text/plain": [
       "[1] \"8847\" \"5923\" \"4212\" \"8867\" \"2772\" \"3350\""
      ]
     },
     "metadata": {},
     "output_type": "display_data"
    }
   ],
   "source": [
    "recc_predicted_ubcf@items[[6]] -> user6_book_numbers\n",
    "recc_predicted_ubcf@itemLabels[user6_book_numbers]"
   ]
  },
  {
   "cell_type": "code",
   "execution_count": 164,
   "metadata": {},
   "outputs": [
    {
     "data": {
      "text/html": [
       "<table>\n",
       "<caption>A spec_tbl_df: 1 × 2</caption>\n",
       "<thead>\n",
       "\t<tr><th scope=col>title</th><th scope=col>authors</th></tr>\n",
       "\t<tr><th scope=col>&lt;chr&gt;</th><th scope=col>&lt;chr&gt;</th></tr>\n",
       "</thead>\n",
       "<tbody>\n",
       "\t<tr><td>Rocket Boys (Coalwood #1)</td><td>Homer Hickam</td></tr>\n",
       "</tbody>\n",
       "</table>\n"
      ],
      "text/latex": [
       "A spec\\_tbl\\_df: 1 × 2\n",
       "\\begin{tabular}{ll}\n",
       " title & authors\\\\\n",
       " <chr> & <chr>\\\\\n",
       "\\hline\n",
       "\t Rocket Boys (Coalwood \\#1) & Homer Hickam\\\\\n",
       "\\end{tabular}\n"
      ],
      "text/markdown": [
       "\n",
       "A spec_tbl_df: 1 × 2\n",
       "\n",
       "| title &lt;chr&gt; | authors &lt;chr&gt; |\n",
       "|---|---|\n",
       "| Rocket Boys (Coalwood #1) | Homer Hickam |\n",
       "\n"
      ],
      "text/plain": [
       "  title                     authors     \n",
       "1 Rocket Boys (Coalwood #1) Homer Hickam"
      ]
     },
     "metadata": {},
     "output_type": "display_data"
    },
    {
     "data": {
      "text/html": [
       "<table>\n",
       "<caption>A spec_tbl_df: 1 × 2</caption>\n",
       "<thead>\n",
       "\t<tr><th scope=col>title</th><th scope=col>authors</th></tr>\n",
       "\t<tr><th scope=col>&lt;chr&gt;</th><th scope=col>&lt;chr&gt;</th></tr>\n",
       "</thead>\n",
       "<tbody>\n",
       "\t<tr><td>The Sandman: Endless Nights</td><td>Neil Gaiman, Barron Storey, Bill Sienkiewicz, Glenn Fabry, Dave McKean, P. Craig Russell, Milo Manara, Miguelanxo Prado, Frank Quitely, Todd Klein</td></tr>\n",
       "</tbody>\n",
       "</table>\n"
      ],
      "text/latex": [
       "A spec\\_tbl\\_df: 1 × 2\n",
       "\\begin{tabular}{ll}\n",
       " title & authors\\\\\n",
       " <chr> & <chr>\\\\\n",
       "\\hline\n",
       "\t The Sandman: Endless Nights & Neil Gaiman, Barron Storey, Bill Sienkiewicz, Glenn Fabry, Dave McKean, P. Craig Russell, Milo Manara, Miguelanxo Prado, Frank Quitely, Todd Klein\\\\\n",
       "\\end{tabular}\n"
      ],
      "text/markdown": [
       "\n",
       "A spec_tbl_df: 1 × 2\n",
       "\n",
       "| title &lt;chr&gt; | authors &lt;chr&gt; |\n",
       "|---|---|\n",
       "| The Sandman: Endless Nights | Neil Gaiman, Barron Storey, Bill Sienkiewicz, Glenn Fabry, Dave McKean, P. Craig Russell, Milo Manara, Miguelanxo Prado, Frank Quitely, Todd Klein |\n",
       "\n"
      ],
      "text/plain": [
       "  title                      \n",
       "1 The Sandman: Endless Nights\n",
       "  authors                                                                                                                                           \n",
       "1 Neil Gaiman, Barron Storey, Bill Sienkiewicz, Glenn Fabry, Dave McKean, P. Craig Russell, Milo Manara, Miguelanxo Prado, Frank Quitely, Todd Klein"
      ]
     },
     "metadata": {},
     "output_type": "display_data"
    },
    {
     "data": {
      "text/html": [
       "<table>\n",
       "<caption>A spec_tbl_df: 1 × 2</caption>\n",
       "<thead>\n",
       "\t<tr><th scope=col>title</th><th scope=col>authors</th></tr>\n",
       "\t<tr><th scope=col>&lt;chr&gt;</th><th scope=col>&lt;chr&gt;</th></tr>\n",
       "</thead>\n",
       "<tbody>\n",
       "\t<tr><td>The Son</td><td>Jo Nesbø, Charlotte Barslund</td></tr>\n",
       "</tbody>\n",
       "</table>\n"
      ],
      "text/latex": [
       "A spec\\_tbl\\_df: 1 × 2\n",
       "\\begin{tabular}{ll}\n",
       " title & authors\\\\\n",
       " <chr> & <chr>\\\\\n",
       "\\hline\n",
       "\t The Son & Jo Nesbø, Charlotte Barslund\\\\\n",
       "\\end{tabular}\n"
      ],
      "text/markdown": [
       "\n",
       "A spec_tbl_df: 1 × 2\n",
       "\n",
       "| title &lt;chr&gt; | authors &lt;chr&gt; |\n",
       "|---|---|\n",
       "| The Son | Jo Nesbø, Charlotte Barslund |\n",
       "\n"
      ],
      "text/plain": [
       "  title   authors                     \n",
       "1 The Son Jo Nesbø, Charlotte Barslund"
      ]
     },
     "metadata": {},
     "output_type": "display_data"
    },
    {
     "data": {
      "text/html": [
       "<table>\n",
       "<caption>A spec_tbl_df: 1 × 2</caption>\n",
       "<thead>\n",
       "\t<tr><th scope=col>title</th><th scope=col>authors</th></tr>\n",
       "\t<tr><th scope=col>&lt;chr&gt;</th><th scope=col>&lt;chr&gt;</th></tr>\n",
       "</thead>\n",
       "<tbody>\n",
       "\t<tr><td>There are No Children Here: The Story of Two Boys Growing Up in the Other America</td><td>Alex Kotlowitz</td></tr>\n",
       "</tbody>\n",
       "</table>\n"
      ],
      "text/latex": [
       "A spec\\_tbl\\_df: 1 × 2\n",
       "\\begin{tabular}{ll}\n",
       " title & authors\\\\\n",
       " <chr> & <chr>\\\\\n",
       "\\hline\n",
       "\t There are No Children Here: The Story of Two Boys Growing Up in the Other America & Alex Kotlowitz\\\\\n",
       "\\end{tabular}\n"
      ],
      "text/markdown": [
       "\n",
       "A spec_tbl_df: 1 × 2\n",
       "\n",
       "| title &lt;chr&gt; | authors &lt;chr&gt; |\n",
       "|---|---|\n",
       "| There are No Children Here: The Story of Two Boys Growing Up in the Other America | Alex Kotlowitz |\n",
       "\n"
      ],
      "text/plain": [
       "  title                                                                            \n",
       "1 There are No Children Here: The Story of Two Boys Growing Up in the Other America\n",
       "  authors       \n",
       "1 Alex Kotlowitz"
      ]
     },
     "metadata": {},
     "output_type": "display_data"
    },
    {
     "data": {
      "text/html": [
       "<table>\n",
       "<caption>A spec_tbl_df: 1 × 2</caption>\n",
       "<thead>\n",
       "\t<tr><th scope=col>title</th><th scope=col>authors</th></tr>\n",
       "\t<tr><th scope=col>&lt;chr&gt;</th><th scope=col>&lt;chr&gt;</th></tr>\n",
       "</thead>\n",
       "<tbody>\n",
       "\t<tr><td>Lilac Girls</td><td>Martha Hall Kelly</td></tr>\n",
       "</tbody>\n",
       "</table>\n"
      ],
      "text/latex": [
       "A spec\\_tbl\\_df: 1 × 2\n",
       "\\begin{tabular}{ll}\n",
       " title & authors\\\\\n",
       " <chr> & <chr>\\\\\n",
       "\\hline\n",
       "\t Lilac Girls & Martha Hall Kelly\\\\\n",
       "\\end{tabular}\n"
      ],
      "text/markdown": [
       "\n",
       "A spec_tbl_df: 1 × 2\n",
       "\n",
       "| title &lt;chr&gt; | authors &lt;chr&gt; |\n",
       "|---|---|\n",
       "| Lilac Girls | Martha Hall Kelly |\n",
       "\n"
      ],
      "text/plain": [
       "  title       authors          \n",
       "1 Lilac Girls Martha Hall Kelly"
      ]
     },
     "metadata": {},
     "output_type": "display_data"
    },
    {
     "data": {
      "text/html": [
       "<table>\n",
       "<caption>A spec_tbl_df: 1 × 2</caption>\n",
       "<thead>\n",
       "\t<tr><th scope=col>title</th><th scope=col>authors</th></tr>\n",
       "\t<tr><th scope=col>&lt;chr&gt;</th><th scope=col>&lt;chr&gt;</th></tr>\n",
       "</thead>\n",
       "<tbody>\n",
       "\t<tr><td>The Wizard Heir (The Heir Chronicles, #2)</td><td>Cinda Williams Chima</td></tr>\n",
       "</tbody>\n",
       "</table>\n"
      ],
      "text/latex": [
       "A spec\\_tbl\\_df: 1 × 2\n",
       "\\begin{tabular}{ll}\n",
       " title & authors\\\\\n",
       " <chr> & <chr>\\\\\n",
       "\\hline\n",
       "\t The Wizard Heir (The Heir Chronicles, \\#2) & Cinda Williams Chima\\\\\n",
       "\\end{tabular}\n"
      ],
      "text/markdown": [
       "\n",
       "A spec_tbl_df: 1 × 2\n",
       "\n",
       "| title &lt;chr&gt; | authors &lt;chr&gt; |\n",
       "|---|---|\n",
       "| The Wizard Heir (The Heir Chronicles, #2) | Cinda Williams Chima |\n",
       "\n"
      ],
      "text/plain": [
       "  title                                     authors             \n",
       "1 The Wizard Heir (The Heir Chronicles, #2) Cinda Williams Chima"
      ]
     },
     "metadata": {},
     "output_type": "display_data"
    }
   ],
   "source": [
    "books %>% filter(id==8847) %>% select(title,authors)\n",
    "books %>% filter(id==5923) %>% select(title,authors)\n",
    "books %>% filter(id==4212) %>% select(title,authors)\n",
    "books %>% filter(id==8867) %>% select(title,authors)\n",
    "books %>% filter(id==2772) %>% select(title,authors)\n",
    "books %>% filter(id==3350) %>% select(title,authors)"
   ]
  },
  {
   "cell_type": "code",
   "execution_count": null,
   "metadata": {},
   "outputs": [],
   "source": []
  }
 ],
 "metadata": {
  "kernelspec": {
   "display_name": "R",
   "language": "R",
   "name": "ir"
  },
  "language_info": {
   "codemirror_mode": "r",
   "file_extension": ".r",
   "mimetype": "text/x-r-source",
   "name": "R",
   "pygments_lexer": "r",
   "version": "3.6.1"
  }
 },
 "nbformat": 4,
 "nbformat_minor": 4
}
